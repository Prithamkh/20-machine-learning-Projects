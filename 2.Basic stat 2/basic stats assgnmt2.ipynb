{
 "cells": [
  {
   "cell_type": "markdown",
   "id": "e5a0b28d",
   "metadata": {},
   "source": [
    "# # Estimation And Confidence Intervals # #"
   ]
  },
  {
   "cell_type": "markdown",
   "id": "1c4ef466",
   "metadata": {},
   "source": [
    "# 99% Confidence interval for Sample Standard Deviation"
   ]
  },
  {
   "cell_type": "code",
   "execution_count": 1,
   "id": "6f49a9ff",
   "metadata": {},
   "outputs": [
    {
     "name": "stdout",
     "output_type": "stream",
     "text": [
      "Requirement already satisfied: numpy in c:\\users\\pritham hajagolkar\\anaconda3\\lib\\site-packages (1.24.3)\n"
     ]
    }
   ],
   "source": [
    "!pip install numpy"
   ]
  },
  {
   "cell_type": "code",
   "execution_count": 2,
   "id": "6664f560",
   "metadata": {},
   "outputs": [
    {
     "name": "stdout",
     "output_type": "stream",
     "text": [
      "Requirement already satisfied: scipy in c:\\users\\pritham hajagolkar\\anaconda3\\lib\\site-packages (1.11.1)\n",
      "Requirement already satisfied: numpy<1.28.0,>=1.21.6 in c:\\users\\pritham hajagolkar\\anaconda3\\lib\\site-packages (from scipy) (1.24.3)\n"
     ]
    }
   ],
   "source": [
    "!pip install scipy"
   ]
  },
  {
   "cell_type": "code",
   "execution_count": 35,
   "id": "d8ff943c",
   "metadata": {},
   "outputs": [
    {
     "name": "stdout",
     "output_type": "stream",
     "text": [
      "Requirement already satisfied: pandas in c:\\users\\pritham hajagolkar\\anaconda3\\lib\\site-packages (2.0.3)\n",
      "Requirement already satisfied: python-dateutil>=2.8.2 in c:\\users\\pritham hajagolkar\\anaconda3\\lib\\site-packages (from pandas) (2.8.2)\n",
      "Requirement already satisfied: pytz>=2020.1 in c:\\users\\pritham hajagolkar\\anaconda3\\lib\\site-packages (from pandas) (2023.3.post1)\n",
      "Requirement already satisfied: tzdata>=2022.1 in c:\\users\\pritham hajagolkar\\anaconda3\\lib\\site-packages (from pandas) (2023.3)\n",
      "Requirement already satisfied: numpy>=1.21.0 in c:\\users\\pritham hajagolkar\\anaconda3\\lib\\site-packages (from pandas) (1.24.3)\n",
      "Requirement already satisfied: six>=1.5 in c:\\users\\pritham hajagolkar\\anaconda3\\lib\\site-packages (from python-dateutil>=2.8.2->pandas) (1.16.0)\n"
     ]
    }
   ],
   "source": [
    "!pip install pandas"
   ]
  },
  {
   "cell_type": "code",
   "execution_count": 25,
   "id": "3d4f9787",
   "metadata": {},
   "outputs": [],
   "source": [
    "import numpy as np"
   ]
  },
  {
   "cell_type": "code",
   "execution_count": 36,
   "id": "ba6e4aaf",
   "metadata": {},
   "outputs": [],
   "source": [
    "import pandas as pd"
   ]
  },
  {
   "cell_type": "code",
   "execution_count": 37,
   "id": "e4f63dee",
   "metadata": {},
   "outputs": [],
   "source": [
    "import scipy.stats as stats"
   ]
  },
  {
   "cell_type": "code",
   "execution_count": 60,
   "id": "04186319",
   "metadata": {},
   "outputs": [],
   "source": [
    "import math"
   ]
  },
  {
   "cell_type": "code",
   "execution_count": 68,
   "id": "21bf11b0",
   "metadata": {},
   "outputs": [],
   "source": [
    "import random"
   ]
  },
  {
   "cell_type": "code",
   "execution_count": 41,
   "id": "e1557e00",
   "metadata": {},
   "outputs": [
    {
     "name": "stdout",
     "output_type": "stream",
     "text": [
      "       0\n",
      "0   1.13\n",
      "1   1.55\n",
      "2   1.43\n",
      "3   0.92\n",
      "4   1.25\n",
      "5   1.36\n",
      "6   1.32\n",
      "7   0.85\n",
      "8   1.07\n",
      "9   1.48\n",
      "10  1.20\n",
      "11  1.33\n",
      "12  1.18\n",
      "13  1.22\n",
      "14  1.29\n"
     ]
    }
   ],
   "source": [
    "ci=(1.13, 1.55, 1.43, 0.92, 1.25, 1.36, 1.32, 0.85, 1.07, 1.48, 1.20, 1.33, 1.18, 1.22, 1.29)\n",
    "ci1=pd.DataFrame(ci)\n",
    "print(ci1)"
   ]
  },
  {
   "cell_type": "code",
   "execution_count": 58,
   "id": "772bdd91",
   "metadata": {},
   "outputs": [
    {
     "name": "stdout",
     "output_type": "stream",
     "text": [
      "0    1.238667\n",
      "dtype: float64\n"
     ]
    }
   ],
   "source": [
    "mu=ci1.mean()\n",
    "print(mu)"
   ]
  },
  {
   "cell_type": "code",
   "execution_count": 57,
   "id": "2ce9816a",
   "metadata": {},
   "outputs": [
    {
     "name": "stdout",
     "output_type": "stream",
     "text": [
      "0    0.193164\n",
      "dtype: float64\n"
     ]
    }
   ],
   "source": [
    "samp_stdev=ci1.std()\n",
    "print(samp_stdev)"
   ]
  },
  {
   "cell_type": "code",
   "execution_count": 43,
   "id": "f71d5fcd",
   "metadata": {},
   "outputs": [
    {
     "data": {
      "text/plain": [
       "pandas.core.frame.DataFrame"
      ]
     },
     "execution_count": 43,
     "metadata": {},
     "output_type": "execute_result"
    }
   ],
   "source": [
    "type(ci1)"
   ]
  },
  {
   "cell_type": "code",
   "execution_count": 44,
   "id": "2d323f49",
   "metadata": {},
   "outputs": [
    {
     "data": {
      "text/plain": [
       "15"
      ]
     },
     "execution_count": 44,
     "metadata": {},
     "output_type": "execute_result"
    }
   ],
   "source": [
    "len(ci1)"
   ]
  },
  {
   "cell_type": "code",
   "execution_count": 53,
   "id": "1bf79529",
   "metadata": {},
   "outputs": [
    {
     "name": "stdout",
     "output_type": "stream",
     "text": [
      "1.3672369387280847\n"
     ]
    }
   ],
   "source": [
    "ci=1.2386+2.58*(0.1931/3.8729)\n",
    "print(ci)"
   ]
  },
  {
   "cell_type": "code",
   "execution_count": 54,
   "id": "557039e1",
   "metadata": {},
   "outputs": [
    {
     "name": "stdout",
     "output_type": "stream",
     "text": [
      "1.1099630612719151\n"
     ]
    }
   ],
   "source": [
    "ci=1.2386-2.58*(0.1931/3.8729)\n",
    "print(ci)"
   ]
  },
  {
   "cell_type": "code",
   "execution_count": 66,
   "id": "56a0b982",
   "metadata": {},
   "outputs": [
    {
     "name": "stdout",
     "output_type": "stream",
     "text": [
      "Z-critical value:\n",
      "2.0335201492530506\n",
      "confidence interval:\n",
      "(0    1.340088\n",
      "dtype: float64, 0    1.137245\n",
      "dtype: float64)\n"
     ]
    }
   ],
   "source": [
    "n=15\n",
    "z_crt=stats.norm.ppf(q=0.979)\n",
    "print(\"Z-critical value:\")\n",
    "print(z_crt)\n",
    "mgr_er=z_crt*(samp_stdev/math.sqrt(n))\n",
    "c_i=(mu+mgr_er,mu-mgr_er)\n",
    "print(\"confidence interval:\")\n",
    "print(c_i)"
   ]
  },
  {
   "cell_type": "markdown",
   "id": "4a7c4a95",
   "metadata": {},
   "source": [
    "# 99% Confidence interval using known Population Standard Deviation"
   ]
  },
  {
   "cell_type": "code",
   "execution_count": 70,
   "id": "159c7a5e",
   "metadata": {},
   "outputs": [
    {
     "data": {
      "text/plain": [
       "(0    1.238667\n",
       " dtype: float64,\n",
       " 0    0.193164\n",
       " dtype: float64)"
      ]
     },
     "execution_count": 70,
     "metadata": {},
     "output_type": "execute_result"
    }
   ],
   "source": [
    "ci2=[1.13, 1.55, 1.43, 0.92, 1.25, 1.36, 1.32, 0.85, 1.07, 1.48, 1.20, 1.33, 1.18, 1.22, 1.29]\n",
    "ci3=pd.DataFrame(ci2)\n",
    "ci3.mean(),ci3.std()"
   ]
  },
  {
   "cell_type": "code",
   "execution_count": 73,
   "id": "7f43fa99",
   "metadata": {},
   "outputs": [
    {
     "name": "stdout",
     "output_type": "stream",
     "text": [
      "          kp\n",
      "0   1.521300\n",
      "1   1.286952\n",
      "2   0.998761\n",
      "3   0.985233\n",
      "4   1.426187\n",
      "5   1.354152\n",
      "6   1.475548\n",
      "7   1.225740\n",
      "8   1.342933\n",
      "9   1.141280\n",
      "10  1.183639\n",
      "11  1.217721\n",
      "12  1.184845\n",
      "13  1.052359\n",
      "14  1.068815\n",
      "99% confidence interval: (1.0980157798671604, 1.3640462864089722)\n"
     ]
    }
   ],
   "source": [
    "kp=np.random.normal(1.2386,0.2,15)\n",
    "kp1=pd.DataFrame(kp,columns=['kp'])\n",
    "print(kp1)\n",
    "mean=kp1['kp'].mean()\n",
    "std=0.2\n",
    "stderr=std/math.sqrt(len(kp1['kp']))\n",
    "ci_99=st.norm.interval(0.99,mean,stderr)\n",
    "print('99% confidence interval:',ci_99)"
   ]
  },
  {
   "cell_type": "code",
   "execution_count": null,
   "id": "b31fcaf2",
   "metadata": {},
   "outputs": [],
   "source": []
  }
 ],
 "metadata": {
  "kernelspec": {
   "display_name": "Python 3 (ipykernel)",
   "language": "python",
   "name": "python3"
  },
  "language_info": {
   "codemirror_mode": {
    "name": "ipython",
    "version": 3
   },
   "file_extension": ".py",
   "mimetype": "text/x-python",
   "name": "python",
   "nbconvert_exporter": "python",
   "pygments_lexer": "ipython3",
   "version": "3.11.5"
  }
 },
 "nbformat": 4,
 "nbformat_minor": 5
}
