{
 "cells": [
  {
   "cell_type": "code",
   "execution_count": 12,
   "id": "bd3636bd",
   "metadata": {},
   "outputs": [
    {
     "name": "stdout",
     "output_type": "stream",
     "text": [
      "Requirement already satisfied: pandas in c:\\users\\pritham hajagolkar\\anaconda3\\lib\\site-packages (2.0.3)\n",
      "Requirement already satisfied: python-dateutil>=2.8.2 in c:\\users\\pritham hajagolkar\\anaconda3\\lib\\site-packages (from pandas) (2.8.2)\n",
      "Requirement already satisfied: pytz>=2020.1 in c:\\users\\pritham hajagolkar\\anaconda3\\lib\\site-packages (from pandas) (2023.3.post1)\n",
      "Requirement already satisfied: tzdata>=2022.1 in c:\\users\\pritham hajagolkar\\anaconda3\\lib\\site-packages (from pandas) (2023.3)\n",
      "Requirement already satisfied: numpy>=1.21.0 in c:\\users\\pritham hajagolkar\\anaconda3\\lib\\site-packages (from pandas) (1.24.3)\n",
      "Requirement already satisfied: six>=1.5 in c:\\users\\pritham hajagolkar\\anaconda3\\lib\\site-packages (from python-dateutil>=2.8.2->pandas) (1.16.0)\n"
     ]
    }
   ],
   "source": [
    "!pip install pandas"
   ]
  },
  {
   "cell_type": "code",
   "execution_count": 146,
   "id": "bb195cb0",
   "metadata": {},
   "outputs": [],
   "source": [
    "import pandas as pd"
   ]
  },
  {
   "cell_type": "code",
   "execution_count": 147,
   "id": "30ea2104",
   "metadata": {},
   "outputs": [],
   "source": [
    "age = [20,25,26,27,28,29,30.5,31,32,33,40,50]"
   ]
  },
  {
   "cell_type": "code",
   "execution_count": 148,
   "id": "ddd89668",
   "metadata": {},
   "outputs": [
    {
     "data": {
      "text/plain": [
       "30.958333333333332"
      ]
     },
     "execution_count": 148,
     "metadata": {},
     "output_type": "execute_result"
    }
   ],
   "source": [
    "sum(age)/len(age)"
   ]
  },
  {
   "cell_type": "code",
   "execution_count": 149,
   "id": "12f4e9f3",
   "metadata": {},
   "outputs": [
    {
     "data": {
      "text/plain": [
       "list"
      ]
     },
     "execution_count": 149,
     "metadata": {},
     "output_type": "execute_result"
    }
   ],
   "source": [
    "type(age)"
   ]
  },
  {
   "cell_type": "code",
   "execution_count": 150,
   "id": "77a5b81e",
   "metadata": {},
   "outputs": [],
   "source": [
    "ser = pd.Series(age)"
   ]
  },
  {
   "cell_type": "code",
   "execution_count": 151,
   "id": "36b047f6",
   "metadata": {},
   "outputs": [
    {
     "data": {
      "text/plain": [
       "pandas.core.series.Series"
      ]
     },
     "execution_count": 151,
     "metadata": {},
     "output_type": "execute_result"
    }
   ],
   "source": [
    "type(ser)"
   ]
  },
  {
   "cell_type": "code",
   "execution_count": 152,
   "id": "ebd11b4b",
   "metadata": {},
   "outputs": [
    {
     "name": "stdout",
     "output_type": "stream",
     "text": [
      "0     20.0\n",
      "1     25.0\n",
      "2     26.0\n",
      "3     27.0\n",
      "4     28.0\n",
      "5     29.0\n",
      "6     30.5\n",
      "7     31.0\n",
      "8     32.0\n",
      "9     33.0\n",
      "10    40.0\n",
      "11    50.0\n",
      "dtype: float64\n"
     ]
    }
   ],
   "source": [
    "print(ser)"
   ]
  },
  {
   "cell_type": "code",
   "execution_count": 153,
   "id": "94c31dbb",
   "metadata": {},
   "outputs": [
    {
     "name": "stdout",
     "output_type": "stream",
     "text": [
      "[20, 25, 26, 27, 28, 29, 30.5, 31, 32, 33, 40, 50]\n"
     ]
    }
   ],
   "source": [
    "print(age)"
   ]
  },
  {
   "cell_type": "code",
   "execution_count": 154,
   "id": "798a79c1",
   "metadata": {},
   "outputs": [
    {
     "data": {
      "text/plain": [
       "(0    20.0\n",
       " 1    25.0\n",
       " 2    26.0\n",
       " 3    27.0\n",
       " 4    28.0\n",
       " dtype: float64,\n",
       " 7     31.0\n",
       " 8     32.0\n",
       " 9     33.0\n",
       " 10    40.0\n",
       " 11    50.0\n",
       " dtype: float64)"
      ]
     },
     "execution_count": 154,
     "metadata": {},
     "output_type": "execute_result"
    }
   ],
   "source": [
    "ser.head(), ser.tail()"
   ]
  },
  {
   "cell_type": "code",
   "execution_count": 155,
   "id": "04508f72",
   "metadata": {},
   "outputs": [
    {
     "data": {
      "text/plain": [
       "5    29.0\n",
       "6    30.5\n",
       "7    31.0\n",
       "8    32.0\n",
       "9    33.0\n",
       "dtype: float64"
      ]
     },
     "execution_count": 155,
     "metadata": {},
     "output_type": "execute_result"
    }
   ],
   "source": [
    "ser[5:10]"
   ]
  },
  {
   "cell_type": "code",
   "execution_count": 156,
   "id": "1b56bdfb",
   "metadata": {},
   "outputs": [
    {
     "data": {
      "text/plain": [
       "29.0"
      ]
     },
     "execution_count": 156,
     "metadata": {},
     "output_type": "execute_result"
    }
   ],
   "source": [
    "ser[5]"
   ]
  },
  {
   "cell_type": "code",
   "execution_count": 157,
   "id": "6b2c2e48",
   "metadata": {},
   "outputs": [],
   "source": [
    "ser[5] = 10j+2"
   ]
  },
  {
   "cell_type": "code",
   "execution_count": 158,
   "id": "3df8bb54",
   "metadata": {},
   "outputs": [
    {
     "name": "stdout",
     "output_type": "stream",
     "text": [
      "0     20.0+0.0j\n",
      "1     25.0+0.0j\n",
      "2     26.0+0.0j\n",
      "3     27.0+0.0j\n",
      "4     28.0+0.0j\n",
      "5     2.0+10.0j\n",
      "6     30.5+0.0j\n",
      "7     31.0+0.0j\n",
      "8     32.0+0.0j\n",
      "9     33.0+0.0j\n",
      "10    40.0+0.0j\n",
      "11    50.0+0.0j\n",
      "dtype: complex128\n"
     ]
    }
   ],
   "source": [
    "print(ser)"
   ]
  },
  {
   "cell_type": "code",
   "execution_count": 159,
   "id": "a9e3d653",
   "metadata": {},
   "outputs": [],
   "source": [
    "ser1 = pd.Series(age,name='age',index=['a','b','c','d','e','f','g','h','i','j','k','l'],dtype='string')"
   ]
  },
  {
   "cell_type": "code",
   "execution_count": 160,
   "id": "25bbb194",
   "metadata": {},
   "outputs": [
    {
     "data": {
      "text/plain": [
       "a    20\n",
       "b    25\n",
       "c    26\n",
       "d    27\n",
       "Name: age, dtype: string"
      ]
     },
     "execution_count": 160,
     "metadata": {},
     "output_type": "execute_result"
    }
   ],
   "source": [
    "ser1['a':'d']"
   ]
  },
  {
   "cell_type": "code",
   "execution_count": 161,
   "id": "55a66958",
   "metadata": {},
   "outputs": [
    {
     "data": {
      "text/plain": [
       "a      20\n",
       "b      25\n",
       "c      26\n",
       "d      27\n",
       "e      28\n",
       "f      29\n",
       "g    30.5\n",
       "h      31\n",
       "i      32\n",
       "j      33\n",
       "k      40\n",
       "l      50\n",
       "Name: age, dtype: string"
      ]
     },
     "execution_count": 161,
     "metadata": {},
     "output_type": "execute_result"
    }
   ],
   "source": [
    "ser1"
   ]
  },
  {
   "cell_type": "code",
   "execution_count": 162,
   "id": "acddcd43",
   "metadata": {},
   "outputs": [],
   "source": [
    "ser1['g']='30'"
   ]
  },
  {
   "cell_type": "code",
   "execution_count": 163,
   "id": "72ff6850",
   "metadata": {},
   "outputs": [
    {
     "data": {
      "text/plain": [
       "numpy.int64"
      ]
     },
     "execution_count": 163,
     "metadata": {},
     "output_type": "execute_result"
    }
   ],
   "source": [
    "ser1=ser1.astype('int64')\n",
    "type(ser1[0])"
   ]
  },
  {
   "cell_type": "code",
   "execution_count": 164,
   "id": "da16f627",
   "metadata": {},
   "outputs": [
    {
     "data": {
      "text/plain": [
       "a    20\n",
       "b    25\n",
       "c    26\n",
       "d    27\n",
       "e    28\n",
       "f    29\n",
       "g    30\n",
       "h    31\n",
       "i    32\n",
       "j    33\n",
       "k    40\n",
       "l    50\n",
       "Name: age, dtype: int64"
      ]
     },
     "execution_count": 164,
     "metadata": {},
     "output_type": "execute_result"
    }
   ],
   "source": [
    "ser1"
   ]
  },
  {
   "cell_type": "code",
   "execution_count": 165,
   "id": "1e569a14",
   "metadata": {},
   "outputs": [
    {
     "name": "stdout",
     "output_type": "stream",
     "text": [
      "average is age 30.916666666666668\n"
     ]
    }
   ],
   "source": [
    "avg_age=ser1.mean()\n",
    "print(f'average is age {avg_age}')"
   ]
  },
  {
   "cell_type": "code",
   "execution_count": 166,
   "id": "bd4ec393",
   "metadata": {},
   "outputs": [
    {
     "data": {
      "text/plain": [
       "(20, 50)"
      ]
     },
     "execution_count": 166,
     "metadata": {},
     "output_type": "execute_result"
    }
   ],
   "source": [
    "ser1.min(),ser1.max()"
   ]
  },
  {
   "cell_type": "code",
   "execution_count": 167,
   "id": "776377ed",
   "metadata": {},
   "outputs": [
    {
     "data": {
      "text/plain": [
       "(371, 559809169920000000)"
      ]
     },
     "execution_count": 167,
     "metadata": {},
     "output_type": "execute_result"
    }
   ],
   "source": [
    "ser1.sum(),ser1.prod()"
   ]
  },
  {
   "cell_type": "code",
   "execution_count": 168,
   "id": "bc563fcf",
   "metadata": {},
   "outputs": [
    {
     "data": {
      "text/plain": [
       "(30.916666666666668,\n",
       " 29.5,\n",
       " 0     20\n",
       " 1     25\n",
       " 2     26\n",
       " 3     27\n",
       " 4     28\n",
       " 5     29\n",
       " 6     30\n",
       " 7     31\n",
       " 8     32\n",
       " 9     33\n",
       " 10    40\n",
       " 11    50\n",
       " Name: age, dtype: int64)"
      ]
     },
     "execution_count": 168,
     "metadata": {},
     "output_type": "execute_result"
    }
   ],
   "source": [
    "ser1.mean(),ser1.median(),ser1.mode()"
   ]
  },
  {
   "cell_type": "code",
   "execution_count": 169,
   "id": "f348b41d",
   "metadata": {},
   "outputs": [
    {
     "data": {
      "text/plain": [
       "(7.739606911950707, 59.901515151515156)"
      ]
     },
     "execution_count": 169,
     "metadata": {},
     "output_type": "execute_result"
    }
   ],
   "source": [
    "ser1.std(),ser1.var()"
   ]
  },
  {
   "cell_type": "code",
   "execution_count": 170,
   "id": "36148e22",
   "metadata": {},
   "outputs": [
    {
     "data": {
      "text/plain": [
       "count    12.000000\n",
       "mean     30.916667\n",
       "std       7.739607\n",
       "min      20.000000\n",
       "25%      26.750000\n",
       "50%      29.500000\n",
       "75%      32.250000\n",
       "max      50.000000\n",
       "Name: age, dtype: float64"
      ]
     },
     "execution_count": 170,
     "metadata": {},
     "output_type": "execute_result"
    }
   ],
   "source": [
    "ser1.describe()"
   ]
  },
  {
   "cell_type": "markdown",
   "id": "4b1c769e",
   "metadata": {},
   "source": [
    "# Descriptive Analytics and Data Preprocessing on Sales & Discounts Dataset "
   ]
  },
  {
   "cell_type": "markdown",
   "id": "e0e073c9",
   "metadata": {},
   "source": [
    "# # Descriptive Analytics for Numerical Columns # #"
   ]
  },
  {
   "cell_type": "code",
   "execution_count": 171,
   "id": "f0b11b6a",
   "metadata": {},
   "outputs": [
    {
     "data": {
      "text/html": [
       "<div>\n",
       "<style scoped>\n",
       "    .dataframe tbody tr th:only-of-type {\n",
       "        vertical-align: middle;\n",
       "    }\n",
       "\n",
       "    .dataframe tbody tr th {\n",
       "        vertical-align: top;\n",
       "    }\n",
       "\n",
       "    .dataframe thead th {\n",
       "        text-align: right;\n",
       "    }\n",
       "</style>\n",
       "<table border=\"1\" class=\"dataframe\">\n",
       "  <thead>\n",
       "    <tr style=\"text-align: right;\">\n",
       "      <th></th>\n",
       "      <th>Date</th>\n",
       "      <th>Day</th>\n",
       "      <th>SKU</th>\n",
       "      <th>City</th>\n",
       "      <th>Volume</th>\n",
       "      <th>BU</th>\n",
       "      <th>Brand</th>\n",
       "      <th>Model</th>\n",
       "      <th>Avg Price</th>\n",
       "      <th>Total Sales Value</th>\n",
       "      <th>Discount Rate (%)</th>\n",
       "      <th>Discount Amount</th>\n",
       "      <th>Net Sales Value</th>\n",
       "    </tr>\n",
       "  </thead>\n",
       "  <tbody>\n",
       "    <tr>\n",
       "      <th>0</th>\n",
       "      <td>01-04-2021</td>\n",
       "      <td>Thursday</td>\n",
       "      <td>M01</td>\n",
       "      <td>C</td>\n",
       "      <td>15</td>\n",
       "      <td>Mobiles</td>\n",
       "      <td>RealU</td>\n",
       "      <td>RU-10</td>\n",
       "      <td>12100</td>\n",
       "      <td>181500</td>\n",
       "      <td>11.654820</td>\n",
       "      <td>21153.498820</td>\n",
       "      <td>160346.501180</td>\n",
       "    </tr>\n",
       "    <tr>\n",
       "      <th>1</th>\n",
       "      <td>01-04-2021</td>\n",
       "      <td>Thursday</td>\n",
       "      <td>M02</td>\n",
       "      <td>C</td>\n",
       "      <td>10</td>\n",
       "      <td>Mobiles</td>\n",
       "      <td>RealU</td>\n",
       "      <td>RU-9 Plus</td>\n",
       "      <td>10100</td>\n",
       "      <td>101000</td>\n",
       "      <td>11.560498</td>\n",
       "      <td>11676.102961</td>\n",
       "      <td>89323.897039</td>\n",
       "    </tr>\n",
       "    <tr>\n",
       "      <th>2</th>\n",
       "      <td>01-04-2021</td>\n",
       "      <td>Thursday</td>\n",
       "      <td>M03</td>\n",
       "      <td>C</td>\n",
       "      <td>7</td>\n",
       "      <td>Mobiles</td>\n",
       "      <td>YouM</td>\n",
       "      <td>YM-99</td>\n",
       "      <td>16100</td>\n",
       "      <td>112700</td>\n",
       "      <td>9.456886</td>\n",
       "      <td>10657.910157</td>\n",
       "      <td>102042.089843</td>\n",
       "    </tr>\n",
       "    <tr>\n",
       "      <th>3</th>\n",
       "      <td>01-04-2021</td>\n",
       "      <td>Thursday</td>\n",
       "      <td>M04</td>\n",
       "      <td>C</td>\n",
       "      <td>6</td>\n",
       "      <td>Mobiles</td>\n",
       "      <td>YouM</td>\n",
       "      <td>YM-99 Plus</td>\n",
       "      <td>20100</td>\n",
       "      <td>120600</td>\n",
       "      <td>6.935385</td>\n",
       "      <td>8364.074702</td>\n",
       "      <td>112235.925298</td>\n",
       "    </tr>\n",
       "    <tr>\n",
       "      <th>4</th>\n",
       "      <td>01-04-2021</td>\n",
       "      <td>Thursday</td>\n",
       "      <td>M05</td>\n",
       "      <td>C</td>\n",
       "      <td>3</td>\n",
       "      <td>Mobiles</td>\n",
       "      <td>YouM</td>\n",
       "      <td>YM-98</td>\n",
       "      <td>8100</td>\n",
       "      <td>24300</td>\n",
       "      <td>17.995663</td>\n",
       "      <td>4372.946230</td>\n",
       "      <td>19927.053770</td>\n",
       "    </tr>\n",
       "    <tr>\n",
       "      <th>...</th>\n",
       "      <td>...</td>\n",
       "      <td>...</td>\n",
       "      <td>...</td>\n",
       "      <td>...</td>\n",
       "      <td>...</td>\n",
       "      <td>...</td>\n",
       "      <td>...</td>\n",
       "      <td>...</td>\n",
       "      <td>...</td>\n",
       "      <td>...</td>\n",
       "      <td>...</td>\n",
       "      <td>...</td>\n",
       "      <td>...</td>\n",
       "    </tr>\n",
       "    <tr>\n",
       "      <th>445</th>\n",
       "      <td>15-04-2021</td>\n",
       "      <td>Thursday</td>\n",
       "      <td>L06</td>\n",
       "      <td>C</td>\n",
       "      <td>2</td>\n",
       "      <td>Lifestyle</td>\n",
       "      <td>Jeera</td>\n",
       "      <td>M-Casuals</td>\n",
       "      <td>1300</td>\n",
       "      <td>2600</td>\n",
       "      <td>15.475687</td>\n",
       "      <td>402.367873</td>\n",
       "      <td>2197.632127</td>\n",
       "    </tr>\n",
       "    <tr>\n",
       "      <th>446</th>\n",
       "      <td>15-04-2021</td>\n",
       "      <td>Thursday</td>\n",
       "      <td>L07</td>\n",
       "      <td>C</td>\n",
       "      <td>6</td>\n",
       "      <td>Lifestyle</td>\n",
       "      <td>Viva</td>\n",
       "      <td>W-Western</td>\n",
       "      <td>2600</td>\n",
       "      <td>15600</td>\n",
       "      <td>17.057027</td>\n",
       "      <td>2660.896242</td>\n",
       "      <td>12939.103758</td>\n",
       "    </tr>\n",
       "    <tr>\n",
       "      <th>447</th>\n",
       "      <td>15-04-2021</td>\n",
       "      <td>Thursday</td>\n",
       "      <td>L08</td>\n",
       "      <td>C</td>\n",
       "      <td>2</td>\n",
       "      <td>Lifestyle</td>\n",
       "      <td>Viva</td>\n",
       "      <td>W-Lounge</td>\n",
       "      <td>1600</td>\n",
       "      <td>3200</td>\n",
       "      <td>18.965550</td>\n",
       "      <td>606.897606</td>\n",
       "      <td>2593.102394</td>\n",
       "    </tr>\n",
       "    <tr>\n",
       "      <th>448</th>\n",
       "      <td>15-04-2021</td>\n",
       "      <td>Thursday</td>\n",
       "      <td>L09</td>\n",
       "      <td>C</td>\n",
       "      <td>3</td>\n",
       "      <td>Lifestyle</td>\n",
       "      <td>Jeera</td>\n",
       "      <td>M-Formals</td>\n",
       "      <td>1900</td>\n",
       "      <td>5700</td>\n",
       "      <td>16.793014</td>\n",
       "      <td>957.201826</td>\n",
       "      <td>4742.798174</td>\n",
       "    </tr>\n",
       "    <tr>\n",
       "      <th>449</th>\n",
       "      <td>15-04-2021</td>\n",
       "      <td>Thursday</td>\n",
       "      <td>L10</td>\n",
       "      <td>C</td>\n",
       "      <td>1</td>\n",
       "      <td>Lifestyle</td>\n",
       "      <td>Jeera</td>\n",
       "      <td>M-Shoes</td>\n",
       "      <td>3100</td>\n",
       "      <td>3100</td>\n",
       "      <td>15.333300</td>\n",
       "      <td>475.332295</td>\n",
       "      <td>2624.667705</td>\n",
       "    </tr>\n",
       "  </tbody>\n",
       "</table>\n",
       "<p>450 rows × 13 columns</p>\n",
       "</div>"
      ],
      "text/plain": [
       "           Date       Day  SKU City  Volume         BU  Brand       Model  \\\n",
       "0    01-04-2021  Thursday  M01    C      15    Mobiles  RealU       RU-10   \n",
       "1    01-04-2021  Thursday  M02    C      10    Mobiles  RealU   RU-9 Plus   \n",
       "2    01-04-2021  Thursday  M03    C       7    Mobiles   YouM       YM-99   \n",
       "3    01-04-2021  Thursday  M04    C       6    Mobiles   YouM  YM-99 Plus   \n",
       "4    01-04-2021  Thursday  M05    C       3    Mobiles   YouM      YM-98    \n",
       "..          ...       ...  ...  ...     ...        ...    ...         ...   \n",
       "445  15-04-2021  Thursday  L06    C       2  Lifestyle  Jeera   M-Casuals   \n",
       "446  15-04-2021  Thursday  L07    C       6  Lifestyle   Viva   W-Western   \n",
       "447  15-04-2021  Thursday  L08    C       2  Lifestyle   Viva    W-Lounge   \n",
       "448  15-04-2021  Thursday  L09    C       3  Lifestyle  Jeera   M-Formals   \n",
       "449  15-04-2021  Thursday  L10    C       1  Lifestyle  Jeera     M-Shoes   \n",
       "\n",
       "     Avg Price  Total Sales Value  Discount Rate (%)  Discount Amount  \\\n",
       "0        12100             181500          11.654820     21153.498820   \n",
       "1        10100             101000          11.560498     11676.102961   \n",
       "2        16100             112700           9.456886     10657.910157   \n",
       "3        20100             120600           6.935385      8364.074702   \n",
       "4         8100              24300          17.995663      4372.946230   \n",
       "..         ...                ...                ...              ...   \n",
       "445       1300               2600          15.475687       402.367873   \n",
       "446       2600              15600          17.057027      2660.896242   \n",
       "447       1600               3200          18.965550       606.897606   \n",
       "448       1900               5700          16.793014       957.201826   \n",
       "449       3100               3100          15.333300       475.332295   \n",
       "\n",
       "     Net Sales Value  \n",
       "0      160346.501180  \n",
       "1       89323.897039  \n",
       "2      102042.089843  \n",
       "3      112235.925298  \n",
       "4       19927.053770  \n",
       "..               ...  \n",
       "445      2197.632127  \n",
       "446     12939.103758  \n",
       "447      2593.102394  \n",
       "448      4742.798174  \n",
       "449      2624.667705  \n",
       "\n",
       "[450 rows x 13 columns]"
      ]
     },
     "execution_count": 171,
     "metadata": {},
     "output_type": "execute_result"
    }
   ],
   "source": [
    "salesdiscounts_df=pd.read_csv(r\"C:\\Users\\Pritham Hajagolkar\\Documents\\salesdiscounts.csv\")\n",
    "salesdiscounts_df"
   ]
  },
  {
   "cell_type": "code",
   "execution_count": 217,
   "id": "dea37724",
   "metadata": {},
   "outputs": [
    {
     "name": "stdout",
     "output_type": "stream",
     "text": [
      "           Date       Day  SKU City  Volume         BU  Brand       Model  \\\n",
      "0    01-04-2021  Thursday  M01    C      15    Mobiles  RealU       RU-10   \n",
      "1    01-04-2021  Thursday  M02    C      10    Mobiles  RealU   RU-9 Plus   \n",
      "2    01-04-2021  Thursday  M03    C       7    Mobiles   YouM       YM-99   \n",
      "3    01-04-2021  Thursday  M04    C       6    Mobiles   YouM  YM-99 Plus   \n",
      "4    01-04-2021  Thursday  M05    C       3    Mobiles   YouM      YM-98    \n",
      "..          ...       ...  ...  ...     ...        ...    ...         ...   \n",
      "445  15-04-2021  Thursday  L06    C       2  Lifestyle  Jeera   M-Casuals   \n",
      "446  15-04-2021  Thursday  L07    C       6  Lifestyle   Viva   W-Western   \n",
      "447  15-04-2021  Thursday  L08    C       2  Lifestyle   Viva    W-Lounge   \n",
      "448  15-04-2021  Thursday  L09    C       3  Lifestyle  Jeera   M-Formals   \n",
      "449  15-04-2021  Thursday  L10    C       1  Lifestyle  Jeera     M-Shoes   \n",
      "\n",
      "     Avg Price  Total Sales Value  Discount Rate (%)  Discount Amount  \\\n",
      "0        12100             181500          11.654820     21153.498820   \n",
      "1        10100             101000          11.560498     11676.102961   \n",
      "2        16100             112700           9.456886     10657.910157   \n",
      "3        20100             120600           6.935385      8364.074702   \n",
      "4         8100              24300          17.995663      4372.946230   \n",
      "..         ...                ...                ...              ...   \n",
      "445       1300               2600          15.475687       402.367873   \n",
      "446       2600              15600          17.057027      2660.896242   \n",
      "447       1600               3200          18.965550       606.897606   \n",
      "448       1900               5700          16.793014       957.201826   \n",
      "449       3100               3100          15.333300       475.332295   \n",
      "\n",
      "     Net Sales Value  \n",
      "0      160346.501180  \n",
      "1       89323.897039  \n",
      "2      102042.089843  \n",
      "3      112235.925298  \n",
      "4       19927.053770  \n",
      "..               ...  \n",
      "445      2197.632127  \n",
      "446     12939.103758  \n",
      "447      2593.102394  \n",
      "448      4742.798174  \n",
      "449      2624.667705  \n",
      "\n",
      "[450 rows x 13 columns]\n"
     ]
    }
   ],
   "source": [
    "print(salesdiscounts_df)"
   ]
  },
  {
   "cell_type": "code",
   "execution_count": 173,
   "id": "3fcd780a",
   "metadata": {},
   "outputs": [
    {
     "data": {
      "text/plain": [
       "pandas.core.frame.DataFrame"
      ]
     },
     "execution_count": 173,
     "metadata": {},
     "output_type": "execute_result"
    }
   ],
   "source": [
    "type(salesdiscounts_df)"
   ]
  },
  {
   "cell_type": "code",
   "execution_count": 174,
   "id": "775bab95",
   "metadata": {},
   "outputs": [
    {
     "data": {
      "text/plain": [
       "450"
      ]
     },
     "execution_count": 174,
     "metadata": {},
     "output_type": "execute_result"
    }
   ],
   "source": [
    "len(salesdiscounts_df)"
   ]
  },
  {
   "cell_type": "code",
   "execution_count": 175,
   "id": "0a81aa7d",
   "metadata": {},
   "outputs": [
    {
     "data": {
      "text/plain": [
       "(450, 13)"
      ]
     },
     "execution_count": 175,
     "metadata": {},
     "output_type": "execute_result"
    }
   ],
   "source": [
    "salesdiscounts_df.shape"
   ]
  },
  {
   "cell_type": "code",
   "execution_count": 176,
   "id": "b98d81ad",
   "metadata": {},
   "outputs": [
    {
     "data": {
      "text/html": [
       "<div>\n",
       "<style scoped>\n",
       "    .dataframe tbody tr th:only-of-type {\n",
       "        vertical-align: middle;\n",
       "    }\n",
       "\n",
       "    .dataframe tbody tr th {\n",
       "        vertical-align: top;\n",
       "    }\n",
       "\n",
       "    .dataframe thead th {\n",
       "        text-align: right;\n",
       "    }\n",
       "</style>\n",
       "<table border=\"1\" class=\"dataframe\">\n",
       "  <thead>\n",
       "    <tr style=\"text-align: right;\">\n",
       "      <th></th>\n",
       "      <th>Date</th>\n",
       "      <th>Day</th>\n",
       "      <th>SKU</th>\n",
       "      <th>City</th>\n",
       "      <th>Volume</th>\n",
       "      <th>BU</th>\n",
       "      <th>Brand</th>\n",
       "      <th>Model</th>\n",
       "      <th>Avg Price</th>\n",
       "      <th>Total Sales Value</th>\n",
       "      <th>Discount Rate (%)</th>\n",
       "      <th>Discount Amount</th>\n",
       "      <th>Net Sales Value</th>\n",
       "    </tr>\n",
       "  </thead>\n",
       "  <tbody>\n",
       "    <tr>\n",
       "      <th>0</th>\n",
       "      <td>01-04-2021</td>\n",
       "      <td>Thursday</td>\n",
       "      <td>M01</td>\n",
       "      <td>C</td>\n",
       "      <td>15</td>\n",
       "      <td>Mobiles</td>\n",
       "      <td>RealU</td>\n",
       "      <td>RU-10</td>\n",
       "      <td>12100</td>\n",
       "      <td>181500</td>\n",
       "      <td>11.654820</td>\n",
       "      <td>21153.498820</td>\n",
       "      <td>160346.501180</td>\n",
       "    </tr>\n",
       "    <tr>\n",
       "      <th>1</th>\n",
       "      <td>01-04-2021</td>\n",
       "      <td>Thursday</td>\n",
       "      <td>M02</td>\n",
       "      <td>C</td>\n",
       "      <td>10</td>\n",
       "      <td>Mobiles</td>\n",
       "      <td>RealU</td>\n",
       "      <td>RU-9 Plus</td>\n",
       "      <td>10100</td>\n",
       "      <td>101000</td>\n",
       "      <td>11.560498</td>\n",
       "      <td>11676.102961</td>\n",
       "      <td>89323.897039</td>\n",
       "    </tr>\n",
       "    <tr>\n",
       "      <th>2</th>\n",
       "      <td>01-04-2021</td>\n",
       "      <td>Thursday</td>\n",
       "      <td>M03</td>\n",
       "      <td>C</td>\n",
       "      <td>7</td>\n",
       "      <td>Mobiles</td>\n",
       "      <td>YouM</td>\n",
       "      <td>YM-99</td>\n",
       "      <td>16100</td>\n",
       "      <td>112700</td>\n",
       "      <td>9.456886</td>\n",
       "      <td>10657.910157</td>\n",
       "      <td>102042.089843</td>\n",
       "    </tr>\n",
       "    <tr>\n",
       "      <th>3</th>\n",
       "      <td>01-04-2021</td>\n",
       "      <td>Thursday</td>\n",
       "      <td>M04</td>\n",
       "      <td>C</td>\n",
       "      <td>6</td>\n",
       "      <td>Mobiles</td>\n",
       "      <td>YouM</td>\n",
       "      <td>YM-99 Plus</td>\n",
       "      <td>20100</td>\n",
       "      <td>120600</td>\n",
       "      <td>6.935385</td>\n",
       "      <td>8364.074702</td>\n",
       "      <td>112235.925298</td>\n",
       "    </tr>\n",
       "    <tr>\n",
       "      <th>4</th>\n",
       "      <td>01-04-2021</td>\n",
       "      <td>Thursday</td>\n",
       "      <td>M05</td>\n",
       "      <td>C</td>\n",
       "      <td>3</td>\n",
       "      <td>Mobiles</td>\n",
       "      <td>YouM</td>\n",
       "      <td>YM-98</td>\n",
       "      <td>8100</td>\n",
       "      <td>24300</td>\n",
       "      <td>17.995663</td>\n",
       "      <td>4372.946230</td>\n",
       "      <td>19927.053770</td>\n",
       "    </tr>\n",
       "  </tbody>\n",
       "</table>\n",
       "</div>"
      ],
      "text/plain": [
       "         Date       Day  SKU City  Volume       BU  Brand       Model  \\\n",
       "0  01-04-2021  Thursday  M01    C      15  Mobiles  RealU       RU-10   \n",
       "1  01-04-2021  Thursday  M02    C      10  Mobiles  RealU   RU-9 Plus   \n",
       "2  01-04-2021  Thursday  M03    C       7  Mobiles   YouM       YM-99   \n",
       "3  01-04-2021  Thursday  M04    C       6  Mobiles   YouM  YM-99 Plus   \n",
       "4  01-04-2021  Thursday  M05    C       3  Mobiles   YouM      YM-98    \n",
       "\n",
       "   Avg Price  Total Sales Value  Discount Rate (%)  Discount Amount  \\\n",
       "0      12100             181500          11.654820     21153.498820   \n",
       "1      10100             101000          11.560498     11676.102961   \n",
       "2      16100             112700           9.456886     10657.910157   \n",
       "3      20100             120600           6.935385      8364.074702   \n",
       "4       8100              24300          17.995663      4372.946230   \n",
       "\n",
       "   Net Sales Value  \n",
       "0    160346.501180  \n",
       "1     89323.897039  \n",
       "2    102042.089843  \n",
       "3    112235.925298  \n",
       "4     19927.053770  "
      ]
     },
     "execution_count": 176,
     "metadata": {},
     "output_type": "execute_result"
    }
   ],
   "source": [
    "salesdiscounts_df.head()"
   ]
  },
  {
   "cell_type": "code",
   "execution_count": 177,
   "id": "ecb469d3",
   "metadata": {},
   "outputs": [
    {
     "data": {
      "text/html": [
       "<div>\n",
       "<style scoped>\n",
       "    .dataframe tbody tr th:only-of-type {\n",
       "        vertical-align: middle;\n",
       "    }\n",
       "\n",
       "    .dataframe tbody tr th {\n",
       "        vertical-align: top;\n",
       "    }\n",
       "\n",
       "    .dataframe thead th {\n",
       "        text-align: right;\n",
       "    }\n",
       "</style>\n",
       "<table border=\"1\" class=\"dataframe\">\n",
       "  <thead>\n",
       "    <tr style=\"text-align: right;\">\n",
       "      <th></th>\n",
       "      <th>Date</th>\n",
       "      <th>Day</th>\n",
       "      <th>SKU</th>\n",
       "      <th>City</th>\n",
       "      <th>Volume</th>\n",
       "      <th>BU</th>\n",
       "      <th>Brand</th>\n",
       "      <th>Model</th>\n",
       "      <th>Avg Price</th>\n",
       "      <th>Total Sales Value</th>\n",
       "      <th>Discount Rate (%)</th>\n",
       "      <th>Discount Amount</th>\n",
       "      <th>Net Sales Value</th>\n",
       "    </tr>\n",
       "  </thead>\n",
       "  <tbody>\n",
       "    <tr>\n",
       "      <th>445</th>\n",
       "      <td>15-04-2021</td>\n",
       "      <td>Thursday</td>\n",
       "      <td>L06</td>\n",
       "      <td>C</td>\n",
       "      <td>2</td>\n",
       "      <td>Lifestyle</td>\n",
       "      <td>Jeera</td>\n",
       "      <td>M-Casuals</td>\n",
       "      <td>1300</td>\n",
       "      <td>2600</td>\n",
       "      <td>15.475687</td>\n",
       "      <td>402.367873</td>\n",
       "      <td>2197.632127</td>\n",
       "    </tr>\n",
       "    <tr>\n",
       "      <th>446</th>\n",
       "      <td>15-04-2021</td>\n",
       "      <td>Thursday</td>\n",
       "      <td>L07</td>\n",
       "      <td>C</td>\n",
       "      <td>6</td>\n",
       "      <td>Lifestyle</td>\n",
       "      <td>Viva</td>\n",
       "      <td>W-Western</td>\n",
       "      <td>2600</td>\n",
       "      <td>15600</td>\n",
       "      <td>17.057027</td>\n",
       "      <td>2660.896242</td>\n",
       "      <td>12939.103758</td>\n",
       "    </tr>\n",
       "    <tr>\n",
       "      <th>447</th>\n",
       "      <td>15-04-2021</td>\n",
       "      <td>Thursday</td>\n",
       "      <td>L08</td>\n",
       "      <td>C</td>\n",
       "      <td>2</td>\n",
       "      <td>Lifestyle</td>\n",
       "      <td>Viva</td>\n",
       "      <td>W-Lounge</td>\n",
       "      <td>1600</td>\n",
       "      <td>3200</td>\n",
       "      <td>18.965550</td>\n",
       "      <td>606.897606</td>\n",
       "      <td>2593.102394</td>\n",
       "    </tr>\n",
       "    <tr>\n",
       "      <th>448</th>\n",
       "      <td>15-04-2021</td>\n",
       "      <td>Thursday</td>\n",
       "      <td>L09</td>\n",
       "      <td>C</td>\n",
       "      <td>3</td>\n",
       "      <td>Lifestyle</td>\n",
       "      <td>Jeera</td>\n",
       "      <td>M-Formals</td>\n",
       "      <td>1900</td>\n",
       "      <td>5700</td>\n",
       "      <td>16.793014</td>\n",
       "      <td>957.201826</td>\n",
       "      <td>4742.798174</td>\n",
       "    </tr>\n",
       "    <tr>\n",
       "      <th>449</th>\n",
       "      <td>15-04-2021</td>\n",
       "      <td>Thursday</td>\n",
       "      <td>L10</td>\n",
       "      <td>C</td>\n",
       "      <td>1</td>\n",
       "      <td>Lifestyle</td>\n",
       "      <td>Jeera</td>\n",
       "      <td>M-Shoes</td>\n",
       "      <td>3100</td>\n",
       "      <td>3100</td>\n",
       "      <td>15.333300</td>\n",
       "      <td>475.332295</td>\n",
       "      <td>2624.667705</td>\n",
       "    </tr>\n",
       "  </tbody>\n",
       "</table>\n",
       "</div>"
      ],
      "text/plain": [
       "           Date       Day  SKU City  Volume         BU  Brand      Model  \\\n",
       "445  15-04-2021  Thursday  L06    C       2  Lifestyle  Jeera  M-Casuals   \n",
       "446  15-04-2021  Thursday  L07    C       6  Lifestyle   Viva  W-Western   \n",
       "447  15-04-2021  Thursday  L08    C       2  Lifestyle   Viva   W-Lounge   \n",
       "448  15-04-2021  Thursday  L09    C       3  Lifestyle  Jeera  M-Formals   \n",
       "449  15-04-2021  Thursday  L10    C       1  Lifestyle  Jeera    M-Shoes   \n",
       "\n",
       "     Avg Price  Total Sales Value  Discount Rate (%)  Discount Amount  \\\n",
       "445       1300               2600          15.475687       402.367873   \n",
       "446       2600              15600          17.057027      2660.896242   \n",
       "447       1600               3200          18.965550       606.897606   \n",
       "448       1900               5700          16.793014       957.201826   \n",
       "449       3100               3100          15.333300       475.332295   \n",
       "\n",
       "     Net Sales Value  \n",
       "445      2197.632127  \n",
       "446     12939.103758  \n",
       "447      2593.102394  \n",
       "448      4742.798174  \n",
       "449      2624.667705  "
      ]
     },
     "execution_count": 177,
     "metadata": {},
     "output_type": "execute_result"
    }
   ],
   "source": [
    "salesdiscounts_df.tail()"
   ]
  },
  {
   "cell_type": "code",
   "execution_count": 178,
   "id": "bef0cb45",
   "metadata": {},
   "outputs": [
    {
     "data": {
      "text/plain": [
       "(         Date       Day  SKU City  Volume       BU  Brand       Model  \\\n",
       " 0  01-04-2021  Thursday  M01    C      15  Mobiles  RealU       RU-10   \n",
       " 1  01-04-2021  Thursday  M02    C      10  Mobiles  RealU   RU-9 Plus   \n",
       " 2  01-04-2021  Thursday  M03    C       7  Mobiles   YouM       YM-99   \n",
       " 3  01-04-2021  Thursday  M04    C       6  Mobiles   YouM  YM-99 Plus   \n",
       " 4  01-04-2021  Thursday  M05    C       3  Mobiles   YouM      YM-98    \n",
       " \n",
       "    Avg Price  Total Sales Value  Discount Rate (%)  Discount Amount  \\\n",
       " 0      12100             181500          11.654820     21153.498820   \n",
       " 1      10100             101000          11.560498     11676.102961   \n",
       " 2      16100             112700           9.456886     10657.910157   \n",
       " 3      20100             120600           6.935385      8364.074702   \n",
       " 4       8100              24300          17.995663      4372.946230   \n",
       " \n",
       "    Net Sales Value  \n",
       " 0    160346.501180  \n",
       " 1     89323.897039  \n",
       " 2    102042.089843  \n",
       " 3    112235.925298  \n",
       " 4     19927.053770  ,\n",
       "            Date       Day  SKU City  Volume         BU  Brand      Model  \\\n",
       " 445  15-04-2021  Thursday  L06    C       2  Lifestyle  Jeera  M-Casuals   \n",
       " 446  15-04-2021  Thursday  L07    C       6  Lifestyle   Viva  W-Western   \n",
       " 447  15-04-2021  Thursday  L08    C       2  Lifestyle   Viva   W-Lounge   \n",
       " 448  15-04-2021  Thursday  L09    C       3  Lifestyle  Jeera  M-Formals   \n",
       " 449  15-04-2021  Thursday  L10    C       1  Lifestyle  Jeera    M-Shoes   \n",
       " \n",
       "      Avg Price  Total Sales Value  Discount Rate (%)  Discount Amount  \\\n",
       " 445       1300               2600          15.475687       402.367873   \n",
       " 446       2600              15600          17.057027      2660.896242   \n",
       " 447       1600               3200          18.965550       606.897606   \n",
       " 448       1900               5700          16.793014       957.201826   \n",
       " 449       3100               3100          15.333300       475.332295   \n",
       " \n",
       "      Net Sales Value  \n",
       " 445      2197.632127  \n",
       " 446     12939.103758  \n",
       " 447      2593.102394  \n",
       " 448      4742.798174  \n",
       " 449      2624.667705  )"
      ]
     },
     "execution_count": 178,
     "metadata": {},
     "output_type": "execute_result"
    }
   ],
   "source": [
    "salesdiscounts_df.head(),salesdiscounts_df.tail()"
   ]
  },
  {
   "cell_type": "code",
   "execution_count": 179,
   "id": "3b230ae1",
   "metadata": {},
   "outputs": [
    {
     "data": {
      "text/html": [
       "<div>\n",
       "<style scoped>\n",
       "    .dataframe tbody tr th:only-of-type {\n",
       "        vertical-align: middle;\n",
       "    }\n",
       "\n",
       "    .dataframe tbody tr th {\n",
       "        vertical-align: top;\n",
       "    }\n",
       "\n",
       "    .dataframe thead th {\n",
       "        text-align: right;\n",
       "    }\n",
       "</style>\n",
       "<table border=\"1\" class=\"dataframe\">\n",
       "  <thead>\n",
       "    <tr style=\"text-align: right;\">\n",
       "      <th></th>\n",
       "      <th>Date</th>\n",
       "      <th>Day</th>\n",
       "      <th>SKU</th>\n",
       "      <th>City</th>\n",
       "      <th>Volume</th>\n",
       "      <th>BU</th>\n",
       "      <th>Brand</th>\n",
       "      <th>Model</th>\n",
       "      <th>Avg Price</th>\n",
       "      <th>Total Sales Value</th>\n",
       "      <th>Discount Rate (%)</th>\n",
       "      <th>Discount Amount</th>\n",
       "      <th>Net Sales Value</th>\n",
       "    </tr>\n",
       "  </thead>\n",
       "  <tbody>\n",
       "    <tr>\n",
       "      <th>0</th>\n",
       "      <td>01-04-2021</td>\n",
       "      <td>Thursday</td>\n",
       "      <td>M01</td>\n",
       "      <td>C</td>\n",
       "      <td>15</td>\n",
       "      <td>Mobiles</td>\n",
       "      <td>RealU</td>\n",
       "      <td>RU-10</td>\n",
       "      <td>12100</td>\n",
       "      <td>181500</td>\n",
       "      <td>11.654820</td>\n",
       "      <td>21153.498820</td>\n",
       "      <td>160346.501180</td>\n",
       "    </tr>\n",
       "    <tr>\n",
       "      <th>1</th>\n",
       "      <td>01-04-2021</td>\n",
       "      <td>Thursday</td>\n",
       "      <td>M02</td>\n",
       "      <td>C</td>\n",
       "      <td>10</td>\n",
       "      <td>Mobiles</td>\n",
       "      <td>RealU</td>\n",
       "      <td>RU-9 Plus</td>\n",
       "      <td>10100</td>\n",
       "      <td>101000</td>\n",
       "      <td>11.560498</td>\n",
       "      <td>11676.102961</td>\n",
       "      <td>89323.897039</td>\n",
       "    </tr>\n",
       "    <tr>\n",
       "      <th>2</th>\n",
       "      <td>01-04-2021</td>\n",
       "      <td>Thursday</td>\n",
       "      <td>M03</td>\n",
       "      <td>C</td>\n",
       "      <td>7</td>\n",
       "      <td>Mobiles</td>\n",
       "      <td>YouM</td>\n",
       "      <td>YM-99</td>\n",
       "      <td>16100</td>\n",
       "      <td>112700</td>\n",
       "      <td>9.456886</td>\n",
       "      <td>10657.910157</td>\n",
       "      <td>102042.089843</td>\n",
       "    </tr>\n",
       "    <tr>\n",
       "      <th>3</th>\n",
       "      <td>01-04-2021</td>\n",
       "      <td>Thursday</td>\n",
       "      <td>M04</td>\n",
       "      <td>C</td>\n",
       "      <td>6</td>\n",
       "      <td>Mobiles</td>\n",
       "      <td>YouM</td>\n",
       "      <td>YM-99 Plus</td>\n",
       "      <td>20100</td>\n",
       "      <td>120600</td>\n",
       "      <td>6.935385</td>\n",
       "      <td>8364.074702</td>\n",
       "      <td>112235.925298</td>\n",
       "    </tr>\n",
       "    <tr>\n",
       "      <th>4</th>\n",
       "      <td>01-04-2021</td>\n",
       "      <td>Thursday</td>\n",
       "      <td>M05</td>\n",
       "      <td>C</td>\n",
       "      <td>3</td>\n",
       "      <td>Mobiles</td>\n",
       "      <td>YouM</td>\n",
       "      <td>YM-98</td>\n",
       "      <td>8100</td>\n",
       "      <td>24300</td>\n",
       "      <td>17.995663</td>\n",
       "      <td>4372.946230</td>\n",
       "      <td>19927.053770</td>\n",
       "    </tr>\n",
       "    <tr>\n",
       "      <th>...</th>\n",
       "      <td>...</td>\n",
       "      <td>...</td>\n",
       "      <td>...</td>\n",
       "      <td>...</td>\n",
       "      <td>...</td>\n",
       "      <td>...</td>\n",
       "      <td>...</td>\n",
       "      <td>...</td>\n",
       "      <td>...</td>\n",
       "      <td>...</td>\n",
       "      <td>...</td>\n",
       "      <td>...</td>\n",
       "      <td>...</td>\n",
       "    </tr>\n",
       "    <tr>\n",
       "      <th>445</th>\n",
       "      <td>15-04-2021</td>\n",
       "      <td>Thursday</td>\n",
       "      <td>L06</td>\n",
       "      <td>C</td>\n",
       "      <td>2</td>\n",
       "      <td>Lifestyle</td>\n",
       "      <td>Jeera</td>\n",
       "      <td>M-Casuals</td>\n",
       "      <td>1300</td>\n",
       "      <td>2600</td>\n",
       "      <td>15.475687</td>\n",
       "      <td>402.367873</td>\n",
       "      <td>2197.632127</td>\n",
       "    </tr>\n",
       "    <tr>\n",
       "      <th>446</th>\n",
       "      <td>15-04-2021</td>\n",
       "      <td>Thursday</td>\n",
       "      <td>L07</td>\n",
       "      <td>C</td>\n",
       "      <td>6</td>\n",
       "      <td>Lifestyle</td>\n",
       "      <td>Viva</td>\n",
       "      <td>W-Western</td>\n",
       "      <td>2600</td>\n",
       "      <td>15600</td>\n",
       "      <td>17.057027</td>\n",
       "      <td>2660.896242</td>\n",
       "      <td>12939.103758</td>\n",
       "    </tr>\n",
       "    <tr>\n",
       "      <th>447</th>\n",
       "      <td>15-04-2021</td>\n",
       "      <td>Thursday</td>\n",
       "      <td>L08</td>\n",
       "      <td>C</td>\n",
       "      <td>2</td>\n",
       "      <td>Lifestyle</td>\n",
       "      <td>Viva</td>\n",
       "      <td>W-Lounge</td>\n",
       "      <td>1600</td>\n",
       "      <td>3200</td>\n",
       "      <td>18.965550</td>\n",
       "      <td>606.897606</td>\n",
       "      <td>2593.102394</td>\n",
       "    </tr>\n",
       "    <tr>\n",
       "      <th>448</th>\n",
       "      <td>15-04-2021</td>\n",
       "      <td>Thursday</td>\n",
       "      <td>L09</td>\n",
       "      <td>C</td>\n",
       "      <td>3</td>\n",
       "      <td>Lifestyle</td>\n",
       "      <td>Jeera</td>\n",
       "      <td>M-Formals</td>\n",
       "      <td>1900</td>\n",
       "      <td>5700</td>\n",
       "      <td>16.793014</td>\n",
       "      <td>957.201826</td>\n",
       "      <td>4742.798174</td>\n",
       "    </tr>\n",
       "    <tr>\n",
       "      <th>449</th>\n",
       "      <td>15-04-2021</td>\n",
       "      <td>Thursday</td>\n",
       "      <td>L10</td>\n",
       "      <td>C</td>\n",
       "      <td>1</td>\n",
       "      <td>Lifestyle</td>\n",
       "      <td>Jeera</td>\n",
       "      <td>M-Shoes</td>\n",
       "      <td>3100</td>\n",
       "      <td>3100</td>\n",
       "      <td>15.333300</td>\n",
       "      <td>475.332295</td>\n",
       "      <td>2624.667705</td>\n",
       "    </tr>\n",
       "  </tbody>\n",
       "</table>\n",
       "<p>450 rows × 13 columns</p>\n",
       "</div>"
      ],
      "text/plain": [
       "           Date       Day  SKU City  Volume         BU  Brand       Model  \\\n",
       "0    01-04-2021  Thursday  M01    C      15    Mobiles  RealU       RU-10   \n",
       "1    01-04-2021  Thursday  M02    C      10    Mobiles  RealU   RU-9 Plus   \n",
       "2    01-04-2021  Thursday  M03    C       7    Mobiles   YouM       YM-99   \n",
       "3    01-04-2021  Thursday  M04    C       6    Mobiles   YouM  YM-99 Plus   \n",
       "4    01-04-2021  Thursday  M05    C       3    Mobiles   YouM      YM-98    \n",
       "..          ...       ...  ...  ...     ...        ...    ...         ...   \n",
       "445  15-04-2021  Thursday  L06    C       2  Lifestyle  Jeera   M-Casuals   \n",
       "446  15-04-2021  Thursday  L07    C       6  Lifestyle   Viva   W-Western   \n",
       "447  15-04-2021  Thursday  L08    C       2  Lifestyle   Viva    W-Lounge   \n",
       "448  15-04-2021  Thursday  L09    C       3  Lifestyle  Jeera   M-Formals   \n",
       "449  15-04-2021  Thursday  L10    C       1  Lifestyle  Jeera     M-Shoes   \n",
       "\n",
       "     Avg Price  Total Sales Value  Discount Rate (%)  Discount Amount  \\\n",
       "0        12100             181500          11.654820     21153.498820   \n",
       "1        10100             101000          11.560498     11676.102961   \n",
       "2        16100             112700           9.456886     10657.910157   \n",
       "3        20100             120600           6.935385      8364.074702   \n",
       "4         8100              24300          17.995663      4372.946230   \n",
       "..         ...                ...                ...              ...   \n",
       "445       1300               2600          15.475687       402.367873   \n",
       "446       2600              15600          17.057027      2660.896242   \n",
       "447       1600               3200          18.965550       606.897606   \n",
       "448       1900               5700          16.793014       957.201826   \n",
       "449       3100               3100          15.333300       475.332295   \n",
       "\n",
       "     Net Sales Value  \n",
       "0      160346.501180  \n",
       "1       89323.897039  \n",
       "2      102042.089843  \n",
       "3      112235.925298  \n",
       "4       19927.053770  \n",
       "..               ...  \n",
       "445      2197.632127  \n",
       "446     12939.103758  \n",
       "447      2593.102394  \n",
       "448      4742.798174  \n",
       "449      2624.667705  \n",
       "\n",
       "[450 rows x 13 columns]"
      ]
     },
     "execution_count": 179,
     "metadata": {},
     "output_type": "execute_result"
    }
   ],
   "source": [
    "salesdiscounts_df[0:450]"
   ]
  },
  {
   "cell_type": "code",
   "execution_count": 180,
   "id": "641ea936",
   "metadata": {},
   "outputs": [
    {
     "name": "stdout",
     "output_type": "stream",
     "text": [
      "<class 'pandas.core.frame.DataFrame'>\n",
      "RangeIndex: 450 entries, 0 to 449\n",
      "Data columns (total 13 columns):\n",
      " #   Column             Non-Null Count  Dtype  \n",
      "---  ------             --------------  -----  \n",
      " 0   Date               450 non-null    object \n",
      " 1   Day                450 non-null    object \n",
      " 2   SKU                450 non-null    object \n",
      " 3   City               450 non-null    object \n",
      " 4   Volume             450 non-null    int64  \n",
      " 5   BU                 450 non-null    object \n",
      " 6   Brand              450 non-null    object \n",
      " 7   Model              450 non-null    object \n",
      " 8   Avg Price          450 non-null    int64  \n",
      " 9   Total Sales Value  450 non-null    int64  \n",
      " 10  Discount Rate (%)  450 non-null    float64\n",
      " 11  Discount Amount    450 non-null    float64\n",
      " 12  Net Sales Value    450 non-null    float64\n",
      "dtypes: float64(3), int64(3), object(7)\n",
      "memory usage: 45.8+ KB\n"
     ]
    }
   ],
   "source": [
    "salesdiscounts_df.info()"
   ]
  },
  {
   "cell_type": "code",
   "execution_count": 181,
   "id": "d328512c",
   "metadata": {},
   "outputs": [
    {
     "data": {
      "text/html": [
       "<div>\n",
       "<style scoped>\n",
       "    .dataframe tbody tr th:only-of-type {\n",
       "        vertical-align: middle;\n",
       "    }\n",
       "\n",
       "    .dataframe tbody tr th {\n",
       "        vertical-align: top;\n",
       "    }\n",
       "\n",
       "    .dataframe thead th {\n",
       "        text-align: right;\n",
       "    }\n",
       "</style>\n",
       "<table border=\"1\" class=\"dataframe\">\n",
       "  <thead>\n",
       "    <tr style=\"text-align: right;\">\n",
       "      <th></th>\n",
       "      <th>Volume</th>\n",
       "      <th>Avg Price</th>\n",
       "      <th>Total Sales Value</th>\n",
       "      <th>Discount Rate (%)</th>\n",
       "      <th>Discount Amount</th>\n",
       "      <th>Net Sales Value</th>\n",
       "    </tr>\n",
       "  </thead>\n",
       "  <tbody>\n",
       "    <tr>\n",
       "      <th>count</th>\n",
       "      <td>450.000000</td>\n",
       "      <td>450.000000</td>\n",
       "      <td>450.000000</td>\n",
       "      <td>450.000000</td>\n",
       "      <td>450.000000</td>\n",
       "      <td>450.000000</td>\n",
       "    </tr>\n",
       "    <tr>\n",
       "      <th>mean</th>\n",
       "      <td>5.066667</td>\n",
       "      <td>10453.433333</td>\n",
       "      <td>33812.835556</td>\n",
       "      <td>15.155242</td>\n",
       "      <td>3346.499424</td>\n",
       "      <td>30466.336131</td>\n",
       "    </tr>\n",
       "    <tr>\n",
       "      <th>std</th>\n",
       "      <td>4.231602</td>\n",
       "      <td>18079.904840</td>\n",
       "      <td>50535.074173</td>\n",
       "      <td>4.220602</td>\n",
       "      <td>4509.902963</td>\n",
       "      <td>46358.656624</td>\n",
       "    </tr>\n",
       "    <tr>\n",
       "      <th>min</th>\n",
       "      <td>1.000000</td>\n",
       "      <td>290.000000</td>\n",
       "      <td>400.000000</td>\n",
       "      <td>5.007822</td>\n",
       "      <td>69.177942</td>\n",
       "      <td>326.974801</td>\n",
       "    </tr>\n",
       "    <tr>\n",
       "      <th>25%</th>\n",
       "      <td>3.000000</td>\n",
       "      <td>465.000000</td>\n",
       "      <td>2700.000000</td>\n",
       "      <td>13.965063</td>\n",
       "      <td>460.459304</td>\n",
       "      <td>2202.208645</td>\n",
       "    </tr>\n",
       "    <tr>\n",
       "      <th>50%</th>\n",
       "      <td>4.000000</td>\n",
       "      <td>1450.000000</td>\n",
       "      <td>5700.000000</td>\n",
       "      <td>16.577766</td>\n",
       "      <td>988.933733</td>\n",
       "      <td>4677.788059</td>\n",
       "    </tr>\n",
       "    <tr>\n",
       "      <th>75%</th>\n",
       "      <td>6.000000</td>\n",
       "      <td>10100.000000</td>\n",
       "      <td>53200.000000</td>\n",
       "      <td>18.114718</td>\n",
       "      <td>5316.495427</td>\n",
       "      <td>47847.912852</td>\n",
       "    </tr>\n",
       "    <tr>\n",
       "      <th>max</th>\n",
       "      <td>31.000000</td>\n",
       "      <td>60100.000000</td>\n",
       "      <td>196400.000000</td>\n",
       "      <td>19.992407</td>\n",
       "      <td>25738.022194</td>\n",
       "      <td>179507.479049</td>\n",
       "    </tr>\n",
       "  </tbody>\n",
       "</table>\n",
       "</div>"
      ],
      "text/plain": [
       "           Volume     Avg Price  Total Sales Value  Discount Rate (%)  \\\n",
       "count  450.000000    450.000000         450.000000         450.000000   \n",
       "mean     5.066667  10453.433333       33812.835556          15.155242   \n",
       "std      4.231602  18079.904840       50535.074173           4.220602   \n",
       "min      1.000000    290.000000         400.000000           5.007822   \n",
       "25%      3.000000    465.000000        2700.000000          13.965063   \n",
       "50%      4.000000   1450.000000        5700.000000          16.577766   \n",
       "75%      6.000000  10100.000000       53200.000000          18.114718   \n",
       "max     31.000000  60100.000000      196400.000000          19.992407   \n",
       "\n",
       "       Discount Amount  Net Sales Value  \n",
       "count       450.000000       450.000000  \n",
       "mean       3346.499424     30466.336131  \n",
       "std        4509.902963     46358.656624  \n",
       "min          69.177942       326.974801  \n",
       "25%         460.459304      2202.208645  \n",
       "50%         988.933733      4677.788059  \n",
       "75%        5316.495427     47847.912852  \n",
       "max       25738.022194    179507.479049  "
      ]
     },
     "execution_count": 181,
     "metadata": {},
     "output_type": "execute_result"
    }
   ],
   "source": [
    "salesdiscounts_df.describe()"
   ]
  },
  {
   "cell_type": "code",
   "execution_count": 232,
   "id": "4968eae0",
   "metadata": {},
   "outputs": [
    {
     "data": {
      "text/plain": [
       "Volume                  63.037284\n",
       "Avg Price            12673.542272\n",
       "Total Sales Value    42899.738716\n",
       "Discount Rate (%)       67.879202\n",
       "Discount Amount       5109.936373\n",
       "Net Sales Value      38979.669520\n",
       "dtype: float64"
      ]
     },
     "execution_count": 232,
     "metadata": {},
     "output_type": "execute_result"
    }
   ],
   "source": [
    "salesdiscounts_df.describe().mean()"
   ]
  },
  {
   "cell_type": "code",
   "execution_count": 182,
   "id": "b12343d9",
   "metadata": {},
   "outputs": [
    {
     "data": {
      "text/plain": [
       "Volume                   4.649135\n",
       "Avg Price             5775.000000\n",
       "Total Sales Value    19756.417778\n",
       "Discount Rate (%)       15.866504\n",
       "Discount Amount       2167.716579\n",
       "Net Sales Value      17572.062095\n",
       "dtype: float64"
      ]
     },
     "execution_count": 182,
     "metadata": {},
     "output_type": "execute_result"
    }
   ],
   "source": [
    "salesdiscounts_df.describe().median()"
   ]
  },
  {
   "cell_type": "code",
   "execution_count": 183,
   "id": "51a22667",
   "metadata": {},
   "outputs": [
    {
     "data": {
      "text/html": [
       "<div>\n",
       "<style scoped>\n",
       "    .dataframe tbody tr th:only-of-type {\n",
       "        vertical-align: middle;\n",
       "    }\n",
       "\n",
       "    .dataframe tbody tr th {\n",
       "        vertical-align: top;\n",
       "    }\n",
       "\n",
       "    .dataframe thead th {\n",
       "        text-align: right;\n",
       "    }\n",
       "</style>\n",
       "<table border=\"1\" class=\"dataframe\">\n",
       "  <thead>\n",
       "    <tr style=\"text-align: right;\">\n",
       "      <th></th>\n",
       "      <th>Volume</th>\n",
       "      <th>Avg Price</th>\n",
       "      <th>Total Sales Value</th>\n",
       "      <th>Discount Rate (%)</th>\n",
       "      <th>Discount Amount</th>\n",
       "      <th>Net Sales Value</th>\n",
       "    </tr>\n",
       "  </thead>\n",
       "  <tbody>\n",
       "    <tr>\n",
       "      <th>0</th>\n",
       "      <td>1.000000</td>\n",
       "      <td>290.000000</td>\n",
       "      <td>400.000000</td>\n",
       "      <td>4.220602</td>\n",
       "      <td>69.177942</td>\n",
       "      <td>326.974801</td>\n",
       "    </tr>\n",
       "    <tr>\n",
       "      <th>1</th>\n",
       "      <td>3.000000</td>\n",
       "      <td>450.000000</td>\n",
       "      <td>450.000000</td>\n",
       "      <td>5.007822</td>\n",
       "      <td>450.000000</td>\n",
       "      <td>450.000000</td>\n",
       "    </tr>\n",
       "    <tr>\n",
       "      <th>2</th>\n",
       "      <td>4.000000</td>\n",
       "      <td>465.000000</td>\n",
       "      <td>2700.000000</td>\n",
       "      <td>13.965063</td>\n",
       "      <td>460.459304</td>\n",
       "      <td>2202.208645</td>\n",
       "    </tr>\n",
       "    <tr>\n",
       "      <th>3</th>\n",
       "      <td>4.231602</td>\n",
       "      <td>1450.000000</td>\n",
       "      <td>5700.000000</td>\n",
       "      <td>15.155242</td>\n",
       "      <td>988.933733</td>\n",
       "      <td>4677.788059</td>\n",
       "    </tr>\n",
       "    <tr>\n",
       "      <th>4</th>\n",
       "      <td>5.066667</td>\n",
       "      <td>10100.000000</td>\n",
       "      <td>33812.835556</td>\n",
       "      <td>16.577766</td>\n",
       "      <td>3346.499424</td>\n",
       "      <td>30466.336131</td>\n",
       "    </tr>\n",
       "    <tr>\n",
       "      <th>5</th>\n",
       "      <td>6.000000</td>\n",
       "      <td>10453.433333</td>\n",
       "      <td>50535.074173</td>\n",
       "      <td>18.114718</td>\n",
       "      <td>4509.902963</td>\n",
       "      <td>46358.656624</td>\n",
       "    </tr>\n",
       "    <tr>\n",
       "      <th>6</th>\n",
       "      <td>31.000000</td>\n",
       "      <td>18079.904840</td>\n",
       "      <td>53200.000000</td>\n",
       "      <td>19.992407</td>\n",
       "      <td>5316.495427</td>\n",
       "      <td>47847.912852</td>\n",
       "    </tr>\n",
       "    <tr>\n",
       "      <th>7</th>\n",
       "      <td>450.000000</td>\n",
       "      <td>60100.000000</td>\n",
       "      <td>196400.000000</td>\n",
       "      <td>450.000000</td>\n",
       "      <td>25738.022194</td>\n",
       "      <td>179507.479049</td>\n",
       "    </tr>\n",
       "  </tbody>\n",
       "</table>\n",
       "</div>"
      ],
      "text/plain": [
       "       Volume     Avg Price  Total Sales Value  Discount Rate (%)  \\\n",
       "0    1.000000    290.000000         400.000000           4.220602   \n",
       "1    3.000000    450.000000         450.000000           5.007822   \n",
       "2    4.000000    465.000000        2700.000000          13.965063   \n",
       "3    4.231602   1450.000000        5700.000000          15.155242   \n",
       "4    5.066667  10100.000000       33812.835556          16.577766   \n",
       "5    6.000000  10453.433333       50535.074173          18.114718   \n",
       "6   31.000000  18079.904840       53200.000000          19.992407   \n",
       "7  450.000000  60100.000000      196400.000000         450.000000   \n",
       "\n",
       "   Discount Amount  Net Sales Value  \n",
       "0        69.177942       326.974801  \n",
       "1       450.000000       450.000000  \n",
       "2       460.459304      2202.208645  \n",
       "3       988.933733      4677.788059  \n",
       "4      3346.499424     30466.336131  \n",
       "5      4509.902963     46358.656624  \n",
       "6      5316.495427     47847.912852  \n",
       "7     25738.022194    179507.479049  "
      ]
     },
     "execution_count": 183,
     "metadata": {},
     "output_type": "execute_result"
    }
   ],
   "source": [
    "salesdiscounts_df.describe().mode()"
   ]
  },
  {
   "cell_type": "code",
   "execution_count": 184,
   "id": "0d04e54b",
   "metadata": {},
   "outputs": [
    {
     "data": {
      "text/plain": [
       "Volume               2.453957e+04\n",
       "Avg Price            4.096905e+08\n",
       "Total Sales Value    4.345335e+09\n",
       "Discount Rate (%)    2.387280e+04\n",
       "Discount Amount      7.353641e+07\n",
       "Net Sales Value      3.637343e+09\n",
       "dtype: float64"
      ]
     },
     "execution_count": 184,
     "metadata": {},
     "output_type": "execute_result"
    }
   ],
   "source": [
    "salesdiscounts_df.describe().var()"
   ]
  },
  {
   "cell_type": "code",
   "execution_count": 221,
   "id": "4ea11bb8",
   "metadata": {},
   "outputs": [
    {
     "data": {
      "text/plain": [
       "Volume                 156.651107\n",
       "Avg Price            20240.811541\n",
       "Total Sales Value    65919.153313\n",
       "Discount Rate (%)      154.508238\n",
       "Discount Amount       8575.337507\n",
       "Net Sales Value      60310.392648\n",
       "dtype: float64"
      ]
     },
     "execution_count": 221,
     "metadata": {},
     "output_type": "execute_result"
    }
   ],
   "source": [
    "salesdiscounts_df.describe().std()"
   ]
  },
  {
   "cell_type": "code",
   "execution_count": 185,
   "id": "df3385a7",
   "metadata": {},
   "outputs": [
    {
     "name": "stdout",
     "output_type": "stream",
     "text": [
      "Variable            Type         Data/Info\n",
      "------------------------------------------\n",
      "age                 list         n=12\n",
      "avg_age             float64      30.916666666666668\n",
      "index               str          Day\n",
      "mpl                 module       <module 'matplotlib' from<...>matplotlib\\\\__init__.py'>\n",
      "np                  module       <module 'numpy' from 'C:\\<...>ges\\\\numpy\\\\__init__.py'>\n",
      "pd                  module       <module 'pandas' from 'C:<...>es\\\\pandas\\\\__init__.py'>\n",
      "plt                 module       <module 'matplotlib.pyplo<...>\\\\matplotlib\\\\pyplot.py'>\n",
      "salesdiscounts_df   DataFrame               Date       Day<...>\\n[450 rows x 13 columns]\n",
      "selection           list         n=2\n",
      "ser                 Series       0     20.0+0.0j\\n1     25<...>0+0.0j\\ndtype: complex128\n",
      "ser1                Series       a    20\\nb    25\\nc    26<...>\\nName: age, dtype: int64\n",
      "sns                 module       <module 'seaborn' from 'C<...>s\\\\seaborn\\\\__init__.py'>\n"
     ]
    }
   ],
   "source": [
    "%whos"
   ]
  },
  {
   "cell_type": "code",
   "execution_count": 186,
   "id": "8aff2180",
   "metadata": {},
   "outputs": [
    {
     "name": "stdout",
     "output_type": "stream",
     "text": [
      "     Volume\n",
      "0        15\n",
      "1        10\n",
      "2         7\n",
      "3         6\n",
      "4         3\n",
      "..      ...\n",
      "445       2\n",
      "446       6\n",
      "447       2\n",
      "448       3\n",
      "449       1\n",
      "\n",
      "[450 rows x 1 columns]\n"
     ]
    }
   ],
   "source": [
    "selection=salesdiscounts_df[['Volume']]\n",
    "print(selection)"
   ]
  },
  {
   "cell_type": "code",
   "execution_count": 236,
   "id": "bcb8aa1e",
   "metadata": {},
   "outputs": [
    {
     "name": "stdout",
     "output_type": "stream",
     "text": [
      "     Volume\n",
      "0        15\n",
      "1        10\n",
      "2         7\n",
      "3         6\n",
      "4         3\n",
      "..      ...\n",
      "445       2\n",
      "446       6\n",
      "447       2\n",
      "448       3\n",
      "449       1\n",
      "\n",
      "[450 rows x 1 columns]\n"
     ]
    }
   ],
   "source": [
    "print(selection[['Volume']])"
   ]
  },
  {
   "cell_type": "code",
   "execution_count": 187,
   "id": "299f2dcf",
   "metadata": {},
   "outputs": [
    {
     "data": {
      "text/plain": [
       "Volume    5.066667\n",
       "dtype: float64"
      ]
     },
     "execution_count": 187,
     "metadata": {},
     "output_type": "execute_result"
    }
   ],
   "source": [
    "selection=salesdiscounts_df[['Volume']]\n",
    "selection.mean()"
   ]
  },
  {
   "cell_type": "code",
   "execution_count": 188,
   "id": "a419ac4c",
   "metadata": {},
   "outputs": [
    {
     "name": "stdout",
     "output_type": "stream",
     "text": [
      "Date                  object\n",
      "Day                   object\n",
      "SKU                   object\n",
      "City                  object\n",
      "Volume                 int64\n",
      "BU                    object\n",
      "Brand                 object\n",
      "Model                 object\n",
      "Avg Price              int64\n",
      "Total Sales Value      int64\n",
      "Discount Rate (%)    float64\n",
      "Discount Amount      float64\n",
      "Net Sales Value      float64\n",
      "dtype: object\n"
     ]
    }
   ],
   "source": [
    "print(salesdiscounts_df.dtypes)"
   ]
  },
  {
   "cell_type": "code",
   "execution_count": 189,
   "id": "cfcf4b74",
   "metadata": {},
   "outputs": [
    {
     "name": "stdout",
     "output_type": "stream",
     "text": [
      "     Volume  Avg Price  Total Sales Value\n",
      "0        15      12100             181500\n",
      "1        10      10100             101000\n",
      "2         7      16100             112700\n",
      "3         6      20100             120600\n",
      "4         3       8100              24300\n",
      "..      ...        ...                ...\n",
      "445       2       1300               2600\n",
      "446       6       2600              15600\n",
      "447       2       1600               3200\n",
      "448       3       1900               5700\n",
      "449       1       3100               3100\n",
      "\n",
      "[450 rows x 3 columns]\n"
     ]
    }
   ],
   "source": [
    "print(salesdiscounts_df.select_dtypes(include=int))"
   ]
  },
  {
   "cell_type": "code",
   "execution_count": 190,
   "id": "270e6693",
   "metadata": {},
   "outputs": [
    {
     "name": "stdout",
     "output_type": "stream",
     "text": [
      "     Volume  Avg Price  Total Sales Value  Discount Rate (%)  Discount Amount  \\\n",
      "0        15      12100             181500          11.654820     21153.498820   \n",
      "1        10      10100             101000          11.560498     11676.102961   \n",
      "2         7      16100             112700           9.456886     10657.910157   \n",
      "3         6      20100             120600           6.935385      8364.074702   \n",
      "4         3       8100              24300          17.995663      4372.946230   \n",
      "..      ...        ...                ...                ...              ...   \n",
      "445       2       1300               2600          15.475687       402.367873   \n",
      "446       6       2600              15600          17.057027      2660.896242   \n",
      "447       2       1600               3200          18.965550       606.897606   \n",
      "448       3       1900               5700          16.793014       957.201826   \n",
      "449       1       3100               3100          15.333300       475.332295   \n",
      "\n",
      "     Net Sales Value  \n",
      "0      160346.501180  \n",
      "1       89323.897039  \n",
      "2      102042.089843  \n",
      "3      112235.925298  \n",
      "4       19927.053770  \n",
      "..               ...  \n",
      "445      2197.632127  \n",
      "446     12939.103758  \n",
      "447      2593.102394  \n",
      "448      4742.798174  \n",
      "449      2624.667705  \n",
      "\n",
      "[450 rows x 6 columns]\n"
     ]
    }
   ],
   "source": [
    "print(salesdiscounts_df.select_dtypes(include=['int64','float64']))"
   ]
  },
  {
   "cell_type": "code",
   "execution_count": 191,
   "id": "80c020cb",
   "metadata": {
    "scrolled": true
   },
   "outputs": [
    {
     "name": "stdout",
     "output_type": "stream",
     "text": [
      "     Volume  Avg Price  Total Sales Value  Discount Rate (%)  Discount Amount  \\\n",
      "0        15      12100             181500          11.654820     21153.498820   \n",
      "1        10      10100             101000          11.560498     11676.102961   \n",
      "2         7      16100             112700           9.456886     10657.910157   \n",
      "3         6      20100             120600           6.935385      8364.074702   \n",
      "4         3       8100              24300          17.995663      4372.946230   \n",
      "..      ...        ...                ...                ...              ...   \n",
      "445       2       1300               2600          15.475687       402.367873   \n",
      "446       6       2600              15600          17.057027      2660.896242   \n",
      "447       2       1600               3200          18.965550       606.897606   \n",
      "448       3       1900               5700          16.793014       957.201826   \n",
      "449       1       3100               3100          15.333300       475.332295   \n",
      "\n",
      "     Net Sales Value  \n",
      "0      160346.501180  \n",
      "1       89323.897039  \n",
      "2      102042.089843  \n",
      "3      112235.925298  \n",
      "4       19927.053770  \n",
      "..               ...  \n",
      "445      2197.632127  \n",
      "446     12939.103758  \n",
      "447      2593.102394  \n",
      "448      4742.798174  \n",
      "449      2624.667705  \n",
      "\n",
      "[450 rows x 6 columns]\n"
     ]
    }
   ],
   "source": [
    "selection=salesdiscounts_df.select_dtypes(include=['int64','float64'])\n",
    "print(selection)"
   ]
  },
  {
   "cell_type": "code",
   "execution_count": 192,
   "id": "ba2886e7",
   "metadata": {},
   "outputs": [
    {
     "data": {
      "text/plain": [
       "(Volume                   5.066667\n",
       " Avg Price            10453.433333\n",
       " Total Sales Value    33812.835556\n",
       " Discount Rate (%)       15.155242\n",
       " Discount Amount       3346.499424\n",
       " Net Sales Value      30466.336131\n",
       " dtype: float64,\n",
       " Volume                  4.000000\n",
       " Avg Price            1450.000000\n",
       " Total Sales Value    5700.000000\n",
       " Discount Rate (%)      16.577766\n",
       " Discount Amount       988.933733\n",
       " Net Sales Value      4677.788059\n",
       " dtype: float64,\n",
       "      Volume  Avg Price  Total Sales Value  Discount Rate (%)  Discount Amount  \\\n",
       " 0       3.0      400.0            24300.0           5.007822        69.177942   \n",
       " 1       NaN      450.0                NaN           5.055218        73.025199   \n",
       " 2       NaN      500.0                NaN           5.059801        93.649161   \n",
       " 3       NaN     1300.0                NaN           5.072124        94.682735   \n",
       " 4       NaN     8100.0                NaN           5.084108       102.705757   \n",
       " ..      ...        ...                ...                ...              ...   \n",
       " 445     NaN        NaN                NaN          19.940610     17900.983733   \n",
       " 446     NaN        NaN                NaN          19.965340     21153.498820   \n",
       " 447     NaN        NaN                NaN          19.976879     21496.675367   \n",
       " 448     NaN        NaN                NaN          19.982257     25328.224204   \n",
       " 449     NaN        NaN                NaN          19.992407     25738.022194   \n",
       " \n",
       "      Net Sales Value  \n",
       " 0         326.974801  \n",
       " 1         330.822058  \n",
       " 2         466.350839  \n",
       " 3         485.317265  \n",
       " 4         496.607104  \n",
       " ..               ...  \n",
       " 445    162603.186379  \n",
       " 446    163915.971000  \n",
       " 447    163967.080070  \n",
       " 448    166263.161348  \n",
       " 449    179507.479049  \n",
       " \n",
       " [450 rows x 6 columns])"
      ]
     },
     "execution_count": 192,
     "metadata": {},
     "output_type": "execute_result"
    }
   ],
   "source": [
    "selection.mean(),selection.median(),selection.mode()"
   ]
  },
  {
   "cell_type": "markdown",
   "id": "60bd1879",
   "metadata": {},
   "source": [
    "# # DATA VISUALIZATION"
   ]
  },
  {
   "cell_type": "code",
   "execution_count": 193,
   "id": "1c207220",
   "metadata": {},
   "outputs": [
    {
     "name": "stdout",
     "output_type": "stream",
     "text": [
      "Requirement already satisfied: matplotlib in c:\\users\\pritham hajagolkar\\anaconda3\\lib\\site-packages (3.7.2)\n",
      "Requirement already satisfied: contourpy>=1.0.1 in c:\\users\\pritham hajagolkar\\anaconda3\\lib\\site-packages (from matplotlib) (1.0.5)\n",
      "Requirement already satisfied: cycler>=0.10 in c:\\users\\pritham hajagolkar\\anaconda3\\lib\\site-packages (from matplotlib) (0.11.0)\n",
      "Requirement already satisfied: fonttools>=4.22.0 in c:\\users\\pritham hajagolkar\\anaconda3\\lib\\site-packages (from matplotlib) (4.25.0)\n",
      "Requirement already satisfied: kiwisolver>=1.0.1 in c:\\users\\pritham hajagolkar\\anaconda3\\lib\\site-packages (from matplotlib) (1.4.4)\n",
      "Requirement already satisfied: numpy>=1.20 in c:\\users\\pritham hajagolkar\\anaconda3\\lib\\site-packages (from matplotlib) (1.24.3)\n",
      "Requirement already satisfied: packaging>=20.0 in c:\\users\\pritham hajagolkar\\anaconda3\\lib\\site-packages (from matplotlib) (23.1)\n",
      "Requirement already satisfied: pillow>=6.2.0 in c:\\users\\pritham hajagolkar\\anaconda3\\lib\\site-packages (from matplotlib) (9.4.0)\n",
      "Requirement already satisfied: pyparsing<3.1,>=2.3.1 in c:\\users\\pritham hajagolkar\\anaconda3\\lib\\site-packages (from matplotlib) (3.0.9)\n",
      "Requirement already satisfied: python-dateutil>=2.7 in c:\\users\\pritham hajagolkar\\anaconda3\\lib\\site-packages (from matplotlib) (2.8.2)\n",
      "Requirement already satisfied: six>=1.5 in c:\\users\\pritham hajagolkar\\anaconda3\\lib\\site-packages (from python-dateutil>=2.7->matplotlib) (1.16.0)\n"
     ]
    }
   ],
   "source": [
    "!pip install matplotlib"
   ]
  },
  {
   "cell_type": "markdown",
   "id": "bad28cec",
   "metadata": {},
   "source": [
    "# # HISTOGRAM CHART FOR NUMERICAL COLUMNS"
   ]
  },
  {
   "cell_type": "code",
   "execution_count": 205,
   "id": "ec130a7f",
   "metadata": {},
   "outputs": [],
   "source": [
    "import matplotlib.pyplot as plt"
   ]
  },
  {
   "cell_type": "code",
   "execution_count": 206,
   "id": "2200abe5",
   "metadata": {},
   "outputs": [],
   "source": [
    "from matplotlib import pyplot as plt"
   ]
  },
  {
   "cell_type": "code",
   "execution_count": 207,
   "id": "96b929f5",
   "metadata": {},
   "outputs": [
    {
     "data": {
      "image/png": "[encoded data removed]",
      "text/plain": [
       "<Figure size 640x480 with 6 Axes>"
      ]
     },
     "metadata": {},
     "output_type": "display_data"
    }
   ],
   "source": [
    "selection=salesdiscounts_df.select_dtypes(include=['int64','float64'])\n",
    "selection.hist()\n",
    "plt.show()"
   ]
  },
  {
   "cell_type": "markdown",
   "id": "83a1ef46",
   "metadata": {},
   "source": [
    "# BAR CHART NUMERICAL VARIABLES"
   ]
  },
  {
   "cell_type": "code",
   "execution_count": 208,
   "id": "44824d67",
   "metadata": {},
   "outputs": [
    {
     "data": {
      "image/png": "[encoded data removed]",
      "text/plain": [
       "<Figure size 640x480 with 1 Axes>"
      ]
     },
     "metadata": {},
     "output_type": "display_data"
    }
   ],
   "source": [
    "selection=salesdiscounts_df.select_dtypes(include=['int64','float64'])\n",
    "selection.plot(kind=\"bar\")\n",
    "plt.show()"
   ]
  },
  {
   "cell_type": "code",
   "execution_count": 209,
   "id": "c61f4b81",
   "metadata": {},
   "outputs": [
    {
     "name": "stdout",
     "output_type": "stream",
     "text": [
      "Date                  object\n",
      "Day                   object\n",
      "SKU                   object\n",
      "City                  object\n",
      "Volume                 int64\n",
      "BU                    object\n",
      "Brand                 object\n",
      "Model                 object\n",
      "Avg Price              int64\n",
      "Total Sales Value      int64\n",
      "Discount Rate (%)    float64\n",
      "Discount Amount      float64\n",
      "Net Sales Value      float64\n",
      "dtype: object\n"
     ]
    }
   ],
   "source": [
    "print(salesdiscounts_df.dtypes)"
   ]
  },
  {
   "cell_type": "code",
   "execution_count": 210,
   "id": "f4b2d604",
   "metadata": {},
   "outputs": [
    {
     "name": "stdout",
     "output_type": "stream",
     "text": [
      "           Date       Day  SKU City         BU  Brand       Model\n",
      "0    01-04-2021  Thursday  M01    C    Mobiles  RealU       RU-10\n",
      "1    01-04-2021  Thursday  M02    C    Mobiles  RealU   RU-9 Plus\n",
      "2    01-04-2021  Thursday  M03    C    Mobiles   YouM       YM-99\n",
      "3    01-04-2021  Thursday  M04    C    Mobiles   YouM  YM-99 Plus\n",
      "4    01-04-2021  Thursday  M05    C    Mobiles   YouM      YM-98 \n",
      "..          ...       ...  ...  ...        ...    ...         ...\n",
      "445  15-04-2021  Thursday  L06    C  Lifestyle  Jeera   M-Casuals\n",
      "446  15-04-2021  Thursday  L07    C  Lifestyle   Viva   W-Western\n",
      "447  15-04-2021  Thursday  L08    C  Lifestyle   Viva    W-Lounge\n",
      "448  15-04-2021  Thursday  L09    C  Lifestyle  Jeera   M-Formals\n",
      "449  15-04-2021  Thursday  L10    C  Lifestyle  Jeera     M-Shoes\n",
      "\n",
      "[450 rows x 7 columns]\n"
     ]
    }
   ],
   "source": [
    "print(salesdiscounts_df.select_dtypes(include=object))"
   ]
  },
  {
   "cell_type": "code",
   "execution_count": 213,
   "id": "30345035",
   "metadata": {},
   "outputs": [
    {
     "data": {
      "image/png": "[encoded data removed]",
      "text/plain": [
       "<Figure size 640x480 with 1 Axes>"
      ]
     },
     "metadata": {},
     "output_type": "display_data"
    }
   ],
   "source": [
    "selection=salesdiscounts_df.select_dtypes(include=['int64','float64'])\n",
    "selection.plot(kind=\"bar\")\n",
    "plt.title('frequency count')\n",
    "plt.xlabel(\"categorical\")\n",
    "plt.ylabel(\"count\")\n",
    "plt.show()"
   ]
  },
  {
   "cell_type": "markdown",
   "id": "e34f59f6",
   "metadata": {},
   "source": [
    "# #BOX PLOT FOR CATEGORICAL COLUMNS"
   ]
  },
  {
   "cell_type": "code",
   "execution_count": 214,
   "id": "106692a9",
   "metadata": {},
   "outputs": [
    {
     "name": "stdout",
     "output_type": "stream",
     "text": [
      "Requirement already satisfied: numpy in c:\\users\\pritham hajagolkar\\anaconda3\\lib\\site-packages (1.24.3)\n"
     ]
    }
   ],
   "source": [
    "!pip install numpy"
   ]
  },
  {
   "cell_type": "code",
   "execution_count": 215,
   "id": "22f13cbf",
   "metadata": {},
   "outputs": [],
   "source": [
    "import numpy as np"
   ]
  },
  {
   "cell_type": "code",
   "execution_count": 216,
   "id": "b8b13579",
   "metadata": {},
   "outputs": [
    {
     "data": {
      "image/png": "[encoded data removed]",
      "text/plain": [
       "<Figure size 640x480 with 1 Axes>"
      ]
     },
     "metadata": {},
     "output_type": "display_data"
    }
   ],
   "source": [
    "selection=salesdiscounts_df.select_dtypes(include=['int64','float64'])\n",
    "plt.boxplot(selection)\n",
    "plt.title('frequency count')\n",
    "plt.xlabel(\"categorical\")\n",
    "plt.ylabel(\"count\")\n",
    "plt.show()"
   ]
  },
  {
   "cell_type": "markdown",
   "id": "72dfec3c",
   "metadata": {},
   "source": [
    "# STANDARDIZATION OF NUMERICAL VARIABLES (Z SCORE)"
   ]
  },
  {
   "cell_type": "code",
   "execution_count": 231,
   "id": "b7ae5a99",
   "metadata": {},
   "outputs": [
    {
     "name": "stdout",
     "output_type": "stream",
     "text": [
      "qd: 5621.284410661214\n",
      "iqr: 2810.642205330607\n"
     ]
    }
   ],
   "source": [
    "q1=np.percentile(selection, 25)\n",
    "q3=np.percentile(selection, 75)\n",
    "qd=q3-q1\n",
    "iqr=qd/2\n",
    "print(\"qd:\",qd)\n",
    "print(\"iqr:\",iqr)"
   ]
  },
  {
   "cell_type": "code",
   "execution_count": 234,
   "id": "8e847270",
   "metadata": {},
   "outputs": [
    {
     "data": {
      "text/plain": [
       "(Volume                   5.066667\n",
       " Avg Price            10453.433333\n",
       " Total Sales Value    33812.835556\n",
       " Discount Rate (%)       15.155242\n",
       " Discount Amount       3346.499424\n",
       " Net Sales Value      30466.336131\n",
       " dtype: float64,\n",
       " Volume                  4.000000\n",
       " Avg Price            1450.000000\n",
       " Total Sales Value    5700.000000\n",
       " Discount Rate (%)      16.577766\n",
       " Discount Amount       988.933733\n",
       " Net Sales Value      4677.788059\n",
       " dtype: float64,\n",
       "      Volume  Avg Price  Total Sales Value  Discount Rate (%)  Discount Amount  \\\n",
       " 0       3.0      400.0            24300.0           5.007822        69.177942   \n",
       " 1       NaN      450.0                NaN           5.055218        73.025199   \n",
       " 2       NaN      500.0                NaN           5.059801        93.649161   \n",
       " 3       NaN     1300.0                NaN           5.072124        94.682735   \n",
       " 4       NaN     8100.0                NaN           5.084108       102.705757   \n",
       " ..      ...        ...                ...                ...              ...   \n",
       " 445     NaN        NaN                NaN          19.940610     17900.983733   \n",
       " 446     NaN        NaN                NaN          19.965340     21153.498820   \n",
       " 447     NaN        NaN                NaN          19.976879     21496.675367   \n",
       " 448     NaN        NaN                NaN          19.982257     25328.224204   \n",
       " 449     NaN        NaN                NaN          19.992407     25738.022194   \n",
       " \n",
       "      Net Sales Value  \n",
       " 0         326.974801  \n",
       " 1         330.822058  \n",
       " 2         466.350839  \n",
       " 3         485.317265  \n",
       " 4         496.607104  \n",
       " ..               ...  \n",
       " 445    162603.186379  \n",
       " 446    163915.971000  \n",
       " 447    163967.080070  \n",
       " 448    166263.161348  \n",
       " 449    179507.479049  \n",
       " \n",
       " [450 rows x 6 columns],\n",
       " Volume               1.790646e+01\n",
       " Avg Price            3.268830e+08\n",
       " Total Sales Value    2.553794e+09\n",
       " Discount Rate (%)    1.781348e+01\n",
       " Discount Amount      2.033922e+07\n",
       " Net Sales Value      2.149125e+09\n",
       " dtype: float64,\n",
       " Volume                   4.231602\n",
       " Avg Price            18079.904840\n",
       " Total Sales Value    50535.074173\n",
       " Discount Rate (%)        4.220602\n",
       " Discount Amount       4509.902963\n",
       " Net Sales Value      46358.656624\n",
       " dtype: float64)"
      ]
     },
     "execution_count": 234,
     "metadata": {},
     "output_type": "execute_result"
    }
   ],
   "source": [
    "selection.mean(),selection.median(),selection.mode(),selection.var(),selection.std()"
   ]
  },
  {
   "cell_type": "code",
   "execution_count": 266,
   "id": "eb6d0eb9",
   "metadata": {},
   "outputs": [
    {
     "name": "stdout",
     "output_type": "stream",
     "text": [
      "Requirement already satisfied: scipy in c:\\users\\pritham hajagolkar\\anaconda3\\lib\\site-packages (1.11.1)\n",
      "Requirement already satisfied: numpy<1.28.0,>=1.21.6 in c:\\users\\pritham hajagolkar\\anaconda3\\lib\\site-packages (from scipy) (1.24.3)\n"
     ]
    }
   ],
   "source": [
    "!pip install scipy"
   ]
  },
  {
   "cell_type": "code",
   "execution_count": 268,
   "id": "bdfd1151",
   "metadata": {},
   "outputs": [],
   "source": [
    "import scipy.stats as stats"
   ]
  },
  {
   "cell_type": "code",
   "execution_count": 269,
   "id": "8cc6206f",
   "metadata": {},
   "outputs": [
    {
     "data": {
      "text/html": [
       "<div>\n",
       "<style scoped>\n",
       "    .dataframe tbody tr th:only-of-type {\n",
       "        vertical-align: middle;\n",
       "    }\n",
       "\n",
       "    .dataframe tbody tr th {\n",
       "        vertical-align: top;\n",
       "    }\n",
       "\n",
       "    .dataframe thead th {\n",
       "        text-align: right;\n",
       "    }\n",
       "</style>\n",
       "<table border=\"1\" class=\"dataframe\">\n",
       "  <thead>\n",
       "    <tr style=\"text-align: right;\">\n",
       "      <th></th>\n",
       "      <th>Volume</th>\n",
       "      <th>Avg Price</th>\n",
       "      <th>Total Sales Value</th>\n",
       "      <th>Discount Rate (%)</th>\n",
       "      <th>Discount Amount</th>\n",
       "      <th>Net Sales Value</th>\n",
       "    </tr>\n",
       "  </thead>\n",
       "  <tbody>\n",
       "    <tr>\n",
       "      <th>0</th>\n",
       "      <td>2.350029</td>\n",
       "      <td>0.091173</td>\n",
       "      <td>2.925721</td>\n",
       "      <td>-0.830289</td>\n",
       "      <td>3.952816</td>\n",
       "      <td>2.804756</td>\n",
       "    </tr>\n",
       "    <tr>\n",
       "      <th>1</th>\n",
       "      <td>1.167129</td>\n",
       "      <td>-0.019570</td>\n",
       "      <td>1.330995</td>\n",
       "      <td>-0.852661</td>\n",
       "      <td>1.849014</td>\n",
       "      <td>1.271026</td>\n",
       "    </tr>\n",
       "    <tr>\n",
       "      <th>2</th>\n",
       "      <td>0.457388</td>\n",
       "      <td>0.312659</td>\n",
       "      <td>1.562775</td>\n",
       "      <td>-1.351631</td>\n",
       "      <td>1.622995</td>\n",
       "      <td>1.545675</td>\n",
       "    </tr>\n",
       "    <tr>\n",
       "      <th>3</th>\n",
       "      <td>0.220808</td>\n",
       "      <td>0.534146</td>\n",
       "      <td>1.719276</td>\n",
       "      <td>-1.949723</td>\n",
       "      <td>1.113807</td>\n",
       "      <td>1.765810</td>\n",
       "    </tr>\n",
       "    <tr>\n",
       "      <th>4</th>\n",
       "      <td>-0.488932</td>\n",
       "      <td>-0.130313</td>\n",
       "      <td>-0.188452</td>\n",
       "      <td>0.673739</td>\n",
       "      <td>0.227852</td>\n",
       "      <td>-0.227595</td>\n",
       "    </tr>\n",
       "    <tr>\n",
       "      <th>...</th>\n",
       "      <td>...</td>\n",
       "      <td>...</td>\n",
       "      <td>...</td>\n",
       "      <td>...</td>\n",
       "      <td>...</td>\n",
       "      <td>...</td>\n",
       "    </tr>\n",
       "    <tr>\n",
       "      <th>445</th>\n",
       "      <td>-0.725512</td>\n",
       "      <td>-0.506840</td>\n",
       "      <td>-0.618334</td>\n",
       "      <td>0.076009</td>\n",
       "      <td>-0.653541</td>\n",
       "      <td>-0.610461</td>\n",
       "    </tr>\n",
       "    <tr>\n",
       "      <th>446</th>\n",
       "      <td>0.220808</td>\n",
       "      <td>-0.434857</td>\n",
       "      <td>-0.360801</td>\n",
       "      <td>0.451097</td>\n",
       "      <td>-0.152191</td>\n",
       "      <td>-0.378500</td>\n",
       "    </tr>\n",
       "    <tr>\n",
       "      <th>447</th>\n",
       "      <td>-0.725512</td>\n",
       "      <td>-0.490229</td>\n",
       "      <td>-0.606448</td>\n",
       "      <td>0.903793</td>\n",
       "      <td>-0.608140</td>\n",
       "      <td>-0.601921</td>\n",
       "    </tr>\n",
       "    <tr>\n",
       "      <th>448</th>\n",
       "      <td>-0.488932</td>\n",
       "      <td>-0.473617</td>\n",
       "      <td>-0.556923</td>\n",
       "      <td>0.388474</td>\n",
       "      <td>-0.530379</td>\n",
       "      <td>-0.555499</td>\n",
       "    </tr>\n",
       "    <tr>\n",
       "      <th>449</th>\n",
       "      <td>-0.962092</td>\n",
       "      <td>-0.407171</td>\n",
       "      <td>-0.608429</td>\n",
       "      <td>0.042235</td>\n",
       "      <td>-0.637345</td>\n",
       "      <td>-0.601239</td>\n",
       "    </tr>\n",
       "  </tbody>\n",
       "</table>\n",
       "<p>450 rows × 6 columns</p>\n",
       "</div>"
      ],
      "text/plain": [
       "       Volume  Avg Price  Total Sales Value  Discount Rate (%)  \\\n",
       "0    2.350029   0.091173           2.925721          -0.830289   \n",
       "1    1.167129  -0.019570           1.330995          -0.852661   \n",
       "2    0.457388   0.312659           1.562775          -1.351631   \n",
       "3    0.220808   0.534146           1.719276          -1.949723   \n",
       "4   -0.488932  -0.130313          -0.188452           0.673739   \n",
       "..        ...        ...                ...                ...   \n",
       "445 -0.725512  -0.506840          -0.618334           0.076009   \n",
       "446  0.220808  -0.434857          -0.360801           0.451097   \n",
       "447 -0.725512  -0.490229          -0.606448           0.903793   \n",
       "448 -0.488932  -0.473617          -0.556923           0.388474   \n",
       "449 -0.962092  -0.407171          -0.608429           0.042235   \n",
       "\n",
       "     Discount Amount  Net Sales Value  \n",
       "0           3.952816         2.804756  \n",
       "1           1.849014         1.271026  \n",
       "2           1.622995         1.545675  \n",
       "3           1.113807         1.765810  \n",
       "4           0.227852        -0.227595  \n",
       "..               ...              ...  \n",
       "445        -0.653541        -0.610461  \n",
       "446        -0.152191        -0.378500  \n",
       "447        -0.608140        -0.601921  \n",
       "448        -0.530379        -0.555499  \n",
       "449        -0.637345        -0.601239  \n",
       "\n",
       "[450 rows x 6 columns]"
      ]
     },
     "execution_count": 269,
     "metadata": {},
     "output_type": "execute_result"
    }
   ],
   "source": [
    "stats.zscore(selection)"
   ]
  },
  {
   "cell_type": "markdown",
   "id": "ef60847b",
   "metadata": {},
   "source": [
    "# CATEGORICAL DATA INTO DUMMY VARIABLES ONE HOT ENCODING "
   ]
  },
  {
   "cell_type": "code",
   "execution_count": 270,
   "id": "a380b766",
   "metadata": {},
   "outputs": [
    {
     "name": "stdout",
     "output_type": "stream",
     "text": [
      "Collecting category_encoders\n",
      "  Obtaining dependency information for category_encoders from https://files.pythonhosted.org/packages/7f/e5/79a62e5c9c9ddbfa9ff5222240d408c1eeea4e38741a0dc8343edc7ef1ec/category_encoders-2.6.3-py2.py3-none-any.whl.metadata\n",
      "  Downloading category_encoders-2.6.3-py2.py3-none-any.whl.metadata (8.0 kB)\n",
      "Requirement already satisfied: numpy>=1.14.0 in c:\\users\\pritham hajagolkar\\anaconda3\\lib\\site-packages (from category_encoders) (1.24.3)\n",
      "Requirement already satisfied: scikit-learn>=0.20.0 in c:\\users\\pritham hajagolkar\\anaconda3\\lib\\site-packages (from category_encoders) (1.3.0)\n",
      "Requirement already satisfied: scipy>=1.0.0 in c:\\users\\pritham hajagolkar\\anaconda3\\lib\\site-packages (from category_encoders) (1.11.1)\n",
      "Requirement already satisfied: statsmodels>=0.9.0 in c:\\users\\pritham hajagolkar\\anaconda3\\lib\\site-packages (from category_encoders) (0.14.0)\n",
      "Requirement already satisfied: pandas>=1.0.5 in c:\\users\\pritham hajagolkar\\anaconda3\\lib\\site-packages (from category_encoders) (2.0.3)\n",
      "Requirement already satisfied: patsy>=0.5.1 in c:\\users\\pritham hajagolkar\\anaconda3\\lib\\site-packages (from category_encoders) (0.5.3)\n",
      "Requirement already satisfied: python-dateutil>=2.8.2 in c:\\users\\pritham hajagolkar\\anaconda3\\lib\\site-packages (from pandas>=1.0.5->category_encoders) (2.8.2)\n",
      "Requirement already satisfied: pytz>=2020.1 in c:\\users\\pritham hajagolkar\\anaconda3\\lib\\site-packages (from pandas>=1.0.5->category_encoders) (2023.3.post1)\n",
      "Requirement already satisfied: tzdata>=2022.1 in c:\\users\\pritham hajagolkar\\anaconda3\\lib\\site-packages (from pandas>=1.0.5->category_encoders) (2023.3)\n",
      "Requirement already satisfied: six in c:\\users\\pritham hajagolkar\\anaconda3\\lib\\site-packages (from patsy>=0.5.1->category_encoders) (1.16.0)\n",
      "Requirement already satisfied: joblib>=1.1.1 in c:\\users\\pritham hajagolkar\\anaconda3\\lib\\site-packages (from scikit-learn>=0.20.0->category_encoders) (1.2.0)\n",
      "Requirement already satisfied: threadpoolctl>=2.0.0 in c:\\users\\pritham hajagolkar\\anaconda3\\lib\\site-packages (from scikit-learn>=0.20.0->category_encoders) (2.2.0)\n",
      "Requirement already satisfied: packaging>=21.3 in c:\\users\\pritham hajagolkar\\anaconda3\\lib\\site-packages (from statsmodels>=0.9.0->category_encoders) (23.1)\n",
      "Downloading category_encoders-2.6.3-py2.py3-none-any.whl (81 kB)\n",
      "   ---------------------------------------- 0.0/81.9 kB ? eta -:--:--\n",
      "   ----- ---------------------------------- 10.2/81.9 kB ? eta -:--:--\n",
      "   ---------- ----------------------------- 20.5/81.9 kB 162.5 kB/s eta 0:00:01\n",
      "   ----------------------------------- ---- 71.7/81.9 kB 391.3 kB/s eta 0:00:01\n",
      "   ---------------------------------------- 81.9/81.9 kB 327.0 kB/s eta 0:00:00\n",
      "Installing collected packages: category_encoders\n",
      "Successfully installed category_encoders-2.6.3\n"
     ]
    }
   ],
   "source": [
    "!pip install category_encoders"
   ]
  },
  {
   "cell_type": "code",
   "execution_count": 271,
   "id": "5878af2a",
   "metadata": {},
   "outputs": [],
   "source": [
    "import category_encoders as ce"
   ]
  },
  {
   "cell_type": "code",
   "execution_count": 272,
   "id": "4019f9c5",
   "metadata": {},
   "outputs": [],
   "source": [
    "import pandas as pd"
   ]
  },
  {
   "cell_type": "code",
   "execution_count": 276,
   "id": "528f70db",
   "metadata": {},
   "outputs": [
    {
     "name": "stdout",
     "output_type": "stream",
     "text": [
      "       Volume  Avg Price_0.09107164452710967  Avg Price_-0.01954840672350447  \\\n",
      "0    2.347417                            1.0                             0.0   \n",
      "1    1.165831                            0.0                             1.0   \n",
      "2    0.456880                            0.0                             0.0   \n",
      "3    0.220563                            0.0                             0.0   \n",
      "4   -0.488389                            0.0                             0.0   \n",
      "..        ...                            ...                             ...   \n",
      "445 -0.724706                            0.0                             0.0   \n",
      "446  0.220563                            0.0                             0.0   \n",
      "447 -0.724706                            0.0                             0.0   \n",
      "448 -0.488389                            0.0                             0.0   \n",
      "449 -0.961023                            0.0                             0.0   \n",
      "\n",
      "     Avg Price_0.312311747028338  Avg Price_0.5335518495295666  \\\n",
      "0                            0.0                           0.0   \n",
      "1                            0.0                           0.0   \n",
      "2                            1.0                           0.0   \n",
      "3                            0.0                           1.0   \n",
      "4                            0.0                           0.0   \n",
      "..                           ...                           ...   \n",
      "445                          0.0                           0.0   \n",
      "446                          0.0                           0.0   \n",
      "447                          0.0                           0.0   \n",
      "448                          0.0                           0.0   \n",
      "449                          0.0                           0.0   \n",
      "\n",
      "     Avg Price_-0.13016845797411863  Avg Price_2.137542592663472  \\\n",
      "0                               0.0                          0.0   \n",
      "1                               0.0                          0.0   \n",
      "2                               0.0                          0.0   \n",
      "3                               0.0                          0.0   \n",
      "4                               1.0                          0.0   \n",
      "..                              ...                          ...   \n",
      "445                             0.0                          0.0   \n",
      "446                             0.0                          0.0   \n",
      "447                             0.0                          0.0   \n",
      "448                             0.0                          0.0   \n",
      "449                             0.0                          0.0   \n",
      "\n",
      "     Avg Price_2.4140927207900074  Avg Price_2.4694027464153145  \\\n",
      "0                             0.0                           0.0   \n",
      "1                             0.0                           0.0   \n",
      "2                             0.0                           0.0   \n",
      "3                             0.0                           0.0   \n",
      "4                             0.0                           0.0   \n",
      "..                            ...                           ...   \n",
      "445                           0.0                           0.0   \n",
      "446                           0.0                           0.0   \n",
      "447                           0.0                           0.0   \n",
      "448                           0.0                           0.0   \n",
      "449                           0.0                           0.0   \n",
      "\n",
      "     Avg Price_2.7459528745418496  ...  Avg Price_-0.5062766322262067  \\\n",
      "0                             0.0  ...                            0.0   \n",
      "1                             0.0  ...                            0.0   \n",
      "2                             0.0  ...                            0.0   \n",
      "3                             0.0  ...                            0.0   \n",
      "4                             0.0  ...                            0.0   \n",
      "..                            ...  ...                            ...   \n",
      "445                           0.0  ...                            1.0   \n",
      "446                           0.0  ...                            0.0   \n",
      "447                           0.0  ...                            0.0   \n",
      "448                           0.0  ...                            0.0   \n",
      "449                           0.0  ...                            0.0   \n",
      "\n",
      "     Avg Price_-0.46208392175158636  Avg Price_-0.43437359891330757  \\\n",
      "0                               0.0                             0.0   \n",
      "1                               0.0                             0.0   \n",
      "2                               0.0                             0.0   \n",
      "3                               0.0                             0.0   \n",
      "4                               0.0                             0.0   \n",
      "..                              ...                             ...   \n",
      "445                             0.0                             0.0   \n",
      "446                             0.0                             1.0   \n",
      "447                             0.0                             0.0   \n",
      "448                             0.0                             0.0   \n",
      "449                             0.0                             0.0   \n",
      "\n",
      "     Avg Price_-0.4896836245386146  Avg Price_-0.4730906168510225  \\\n",
      "0                              0.0                            0.0   \n",
      "1                              0.0                            0.0   \n",
      "2                              0.0                            0.0   \n",
      "3                              0.0                            0.0   \n",
      "4                              0.0                            0.0   \n",
      "..                             ...                            ...   \n",
      "445                            0.0                            0.0   \n",
      "446                            0.0                            0.0   \n",
      "447                            1.0                            0.0   \n",
      "448                            0.0                            1.0   \n",
      "449                            0.0                            0.0   \n",
      "\n",
      "     Avg Price_-0.406718586100654  Total Sales Value  Discount Rate (%)  \\\n",
      "0                             0.0           2.922469          -0.829365   \n",
      "1                             0.0           1.329516          -0.851714   \n",
      "2                             0.0           1.561038          -1.350129   \n",
      "3                             0.0           1.717365          -1.947555   \n",
      "4                             0.0          -0.188242           0.672990   \n",
      "..                            ...                ...                ...   \n",
      "445                           0.0          -0.617647           0.075924   \n",
      "446                           0.0          -0.360400           0.450596   \n",
      "447                           0.0          -0.605774           0.902788   \n",
      "448                           0.0          -0.556303           0.388042   \n",
      "449                           1.0          -0.607753           0.042188   \n",
      "\n",
      "     Discount Amount  Net Sales Value  \n",
      "0           3.948422         2.801638  \n",
      "1           1.846958         1.269613  \n",
      "2           1.621190         1.543957  \n",
      "3           1.112568         1.763847  \n",
      "4           0.227598        -0.227342  \n",
      "..               ...              ...  \n",
      "445        -0.652815        -0.609783  \n",
      "446        -0.152022        -0.378079  \n",
      "447        -0.607464        -0.601252  \n",
      "448        -0.529789        -0.554881  \n",
      "449        -0.636636        -0.600571  \n",
      "\n",
      "[450 rows x 30 columns]\n"
     ]
    }
   ],
   "source": [
    "encoder=ce.OneHotEncoder(cols='Avg Price',handle_unknown='return_nan',return_df=True,use_cat_names=True)\n",
    "selection_encoded=encoder.fit_transform(selection)\n",
    "print(selection_encoded)"
   ]
  },
  {
   "cell_type": "code",
   "execution_count": 277,
   "id": "0538f24c",
   "metadata": {},
   "outputs": [
    {
     "name": "stdout",
     "output_type": "stream",
     "text": [
      "     Volume_2.3474165138855936  Volume_1.1658310203190196  \\\n",
      "0                          1.0                        0.0   \n",
      "1                          0.0                        1.0   \n",
      "2                          0.0                        0.0   \n",
      "3                          0.0                        0.0   \n",
      "4                          0.0                        0.0   \n",
      "..                         ...                        ...   \n",
      "445                        0.0                        0.0   \n",
      "446                        0.0                        0.0   \n",
      "447                        0.0                        0.0   \n",
      "448                        0.0                        0.0   \n",
      "449                        0.0                        0.0   \n",
      "\n",
      "     Volume_0.45687972417907524  Volume_0.22056262546576044  \\\n",
      "0                           0.0                         0.0   \n",
      "1                           0.0                         0.0   \n",
      "2                           1.0                         0.0   \n",
      "3                           0.0                         1.0   \n",
      "4                           0.0                         0.0   \n",
      "..                          ...                         ...   \n",
      "445                         0.0                         0.0   \n",
      "446                         0.0                         1.0   \n",
      "447                         0.0                         0.0   \n",
      "448                         0.0                         0.0   \n",
      "449                         0.0                         0.0   \n",
      "\n",
      "     Volume_-0.48838867067418384  Volume_-0.7247057693874986  \\\n",
      "0                            0.0                         0.0   \n",
      "1                            0.0                         0.0   \n",
      "2                            0.0                         0.0   \n",
      "3                            0.0                         0.0   \n",
      "4                            1.0                         0.0   \n",
      "..                           ...                         ...   \n",
      "445                          0.0                         1.0   \n",
      "446                          0.0                         0.0   \n",
      "447                          0.0                         1.0   \n",
      "448                          1.0                         0.0   \n",
      "449                          0.0                         0.0   \n",
      "\n",
      "     Volume_1.8747823164589639  Volume_-0.2520715719608691  \\\n",
      "0                          0.0                         0.0   \n",
      "1                          0.0                         0.0   \n",
      "2                          0.0                         0.0   \n",
      "3                          0.0                         0.0   \n",
      "4                          0.0                         0.0   \n",
      "..                         ...                         ...   \n",
      "445                        0.0                         0.0   \n",
      "446                        0.0                         0.0   \n",
      "447                        0.0                         0.0   \n",
      "448                        0.0                         0.0   \n",
      "449                        0.0                         0.0   \n",
      "\n",
      "     Volume_0.9295139216057048  Volume_-0.015754473247554326  ...  \\\n",
      "0                          0.0                           0.0  ...   \n",
      "1                          0.0                           0.0  ...   \n",
      "2                          0.0                           0.0  ...   \n",
      "3                          0.0                           0.0  ...   \n",
      "4                          0.0                           0.0  ...   \n",
      "..                         ...                           ...  ...   \n",
      "445                        0.0                           0.0  ...   \n",
      "446                        0.0                           0.0  ...   \n",
      "447                        0.0                           0.0  ...   \n",
      "448                        0.0                           0.0  ...   \n",
      "449                        0.0                           0.0  ...   \n",
      "\n",
      "     Volume_4.7105875010187415  Volume_4.001636204878797  \\\n",
      "0                          0.0                       0.0   \n",
      "1                          0.0                       0.0   \n",
      "2                          0.0                       0.0   \n",
      "3                          0.0                       0.0   \n",
      "4                          0.0                       0.0   \n",
      "..                         ...                       ...   \n",
      "445                        0.0                       0.0   \n",
      "446                        0.0                       0.0   \n",
      "447                        0.0                       0.0   \n",
      "448                        0.0                       0.0   \n",
      "449                        0.0                       0.0   \n",
      "\n",
      "     Volume_6.1284900932986295  Volume_2.5837336125989085  \\\n",
      "0                          0.0                        0.0   \n",
      "1                          0.0                        0.0   \n",
      "2                          0.0                        0.0   \n",
      "3                          0.0                        0.0   \n",
      "4                          0.0                        0.0   \n",
      "..                         ...                        ...   \n",
      "445                        0.0                        0.0   \n",
      "446                        0.0                        0.0   \n",
      "447                        0.0                        0.0   \n",
      "448                        0.0                        0.0   \n",
      "449                        0.0                        0.0   \n",
      "\n",
      "     Volume_2.820050711312223  Avg Price  Total Sales Value  \\\n",
      "0                         0.0   0.091072           2.922469   \n",
      "1                         0.0  -0.019548           1.329516   \n",
      "2                         0.0   0.312312           1.561038   \n",
      "3                         0.0   0.533552           1.717365   \n",
      "4                         0.0  -0.130168          -0.188242   \n",
      "..                        ...        ...                ...   \n",
      "445                       0.0  -0.506277          -0.617647   \n",
      "446                       0.0  -0.434374          -0.360400   \n",
      "447                       0.0  -0.489684          -0.605774   \n",
      "448                       0.0  -0.473091          -0.556303   \n",
      "449                       0.0  -0.406719          -0.607753   \n",
      "\n",
      "     Discount Rate (%)  Discount Amount  Net Sales Value  \n",
      "0            -0.829365         3.948422         2.801638  \n",
      "1            -0.851714         1.846958         1.269613  \n",
      "2            -1.350129         1.621190         1.543957  \n",
      "3            -1.947555         1.112568         1.763847  \n",
      "4             0.672990         0.227598        -0.227342  \n",
      "..                 ...              ...              ...  \n",
      "445           0.075924        -0.652815        -0.609783  \n",
      "446           0.450596        -0.152022        -0.378079  \n",
      "447           0.902788        -0.607464        -0.601252  \n",
      "448           0.388042        -0.529789        -0.554881  \n",
      "449           0.042188        -0.636636        -0.600571  \n",
      "\n",
      "[450 rows x 27 columns]\n"
     ]
    }
   ],
   "source": [
    "encoder=ce.OneHotEncoder(cols='Volume',handle_unknown='return_nan',return_df=True,use_cat_names=True)\n",
    "selection_encoded=encoder.fit_transform(selection)\n",
    "print(selection_encoded)"
   ]
  },
  {
   "cell_type": "code",
   "execution_count": 278,
   "id": "cea699e8",
   "metadata": {},
   "outputs": [
    {
     "name": "stdout",
     "output_type": "stream",
     "text": [
      "       Volume  Avg Price  Total Sales Value_2.9224685401700015  \\\n",
      "0    2.347417   0.091072                                   1.0   \n",
      "1    1.165831  -0.019548                                   0.0   \n",
      "2    0.456880   0.312312                                   0.0   \n",
      "3    0.220563   0.533552                                   0.0   \n",
      "4   -0.488389  -0.130168                                   0.0   \n",
      "..        ...        ...                                   ...   \n",
      "445 -0.724706  -0.506277                                   0.0   \n",
      "446  0.220563  -0.434374                                   0.0   \n",
      "447 -0.724706  -0.489684                                   0.0   \n",
      "448 -0.488389  -0.473091                                   0.0   \n",
      "449 -0.961023  -0.406719                                   0.0   \n",
      "\n",
      "     Total Sales Value_1.3295155007595758  \\\n",
      "0                                     0.0   \n",
      "1                                     1.0   \n",
      "2                                     0.0   \n",
      "3                                     0.0   \n",
      "4                                     0.0   \n",
      "..                                    ...   \n",
      "445                                   0.0   \n",
      "446                                   0.0   \n",
      "447                                   0.0   \n",
      "448                                   0.0   \n",
      "449                                   0.0   \n",
      "\n",
      "     Total Sales Value_1.561037867978234  \\\n",
      "0                                    0.0   \n",
      "1                                    0.0   \n",
      "2                                    1.0   \n",
      "3                                    0.0   \n",
      "4                                    0.0   \n",
      "..                                   ...   \n",
      "445                                  0.0   \n",
      "446                                  0.0   \n",
      "447                                  0.0   \n",
      "448                                  0.0   \n",
      "449                                  0.0   \n",
      "\n",
      "     Total Sales Value_1.7173649364421142  \\\n",
      "0                                     0.0   \n",
      "1                                     0.0   \n",
      "2                                     0.0   \n",
      "3                                     1.0   \n",
      "4                                     0.0   \n",
      "..                                    ...   \n",
      "445                                   0.0   \n",
      "446                                   0.0   \n",
      "447                                   0.0   \n",
      "448                                   0.0   \n",
      "449                                   0.0   \n",
      "\n",
      "     Total Sales Value_-0.18824223989607186  \\\n",
      "0                                       0.0   \n",
      "1                                       0.0   \n",
      "2                                       0.0   \n",
      "3                                       0.0   \n",
      "4                                       1.0   \n",
      "..                                      ...   \n",
      "445                                     0.0   \n",
      "446                                     0.0   \n",
      "447                                     0.0   \n",
      "448                                     0.0   \n",
      "449                                     0.0   \n",
      "\n",
      "     Total Sales Value_2.2457108513770008  \\\n",
      "0                                     0.0   \n",
      "1                                     0.0   \n",
      "2                                     0.0   \n",
      "3                                     0.0   \n",
      "4                                     0.0   \n",
      "..                                    ...   \n",
      "445                                   0.0   \n",
      "446                                   0.0   \n",
      "447                                   0.0   \n",
      "448                                   0.0   \n",
      "449                                   0.0   \n",
      "\n",
      "     Total Sales Value_1.4719908036633655  \\\n",
      "0                                     0.0   \n",
      "1                                     0.0   \n",
      "2                                     0.0   \n",
      "3                                     0.0   \n",
      "4                                     0.0   \n",
      "..                                    ...   \n",
      "445                                   0.0   \n",
      "446                                   0.0   \n",
      "447                                   0.0   \n",
      "448                                   0.0   \n",
      "449                                   0.0   \n",
      "\n",
      "     Total Sales Value_1.511567276692196  ...  \\\n",
      "0                                    0.0  ...   \n",
      "1                                    0.0  ...   \n",
      "2                                    0.0  ...   \n",
      "3                                    0.0  ...   \n",
      "4                                    0.0  ...   \n",
      "..                                   ...  ...   \n",
      "445                                  0.0  ...   \n",
      "446                                  0.0  ...   \n",
      "447                                  0.0  ...   \n",
      "448                                  0.0  ...   \n",
      "449                                  0.0  ...   \n",
      "\n",
      "     Total Sales Value_-0.5424516735041044  \\\n",
      "0                                      0.0   \n",
      "1                                      0.0   \n",
      "2                                      0.0   \n",
      "3                                      0.0   \n",
      "4                                      0.0   \n",
      "..                                     ...   \n",
      "445                                    0.0   \n",
      "446                                    0.0   \n",
      "447                                    0.0   \n",
      "448                                    0.0   \n",
      "449                                    0.0   \n",
      "\n",
      "     Total Sales Value_-0.6305093259932523  \\\n",
      "0                                      0.0   \n",
      "1                                      0.0   \n",
      "2                                      0.0   \n",
      "3                                      0.0   \n",
      "4                                      0.0   \n",
      "..                                     ...   \n",
      "445                                    0.0   \n",
      "446                                    0.0   \n",
      "447                                    0.0   \n",
      "448                                    0.0   \n",
      "449                                    0.0   \n",
      "\n",
      "     Total Sales Value_-0.535525790724059  \\\n",
      "0                                     0.0   \n",
      "1                                     0.0   \n",
      "2                                     0.0   \n",
      "3                                     0.0   \n",
      "4                                     0.0   \n",
      "..                                    ...   \n",
      "445                                   0.0   \n",
      "446                                   0.0   \n",
      "447                                   0.0   \n",
      "448                                   0.0   \n",
      "449                                   0.0   \n",
      "\n",
      "     Total Sales Value_-0.5998375593959085  \\\n",
      "0                                      0.0   \n",
      "1                                      0.0   \n",
      "2                                      0.0   \n",
      "3                                      0.0   \n",
      "4                                      0.0   \n",
      "..                                     ...   \n",
      "445                                    0.0   \n",
      "446                                    0.0   \n",
      "447                                    0.0   \n",
      "448                                    0.0   \n",
      "449                                    0.0   \n",
      "\n",
      "     Total Sales Value_2.443593216521153  \\\n",
      "0                                    0.0   \n",
      "1                                    0.0   \n",
      "2                                    0.0   \n",
      "3                                    0.0   \n",
      "4                                    0.0   \n",
      "..                                   ...   \n",
      "445                                  0.0   \n",
      "446                                  0.0   \n",
      "447                                  0.0   \n",
      "448                                  0.0   \n",
      "449                                  0.0   \n",
      "\n",
      "     Total Sales Value_-0.5681763809728442  \\\n",
      "0                                      0.0   \n",
      "1                                      0.0   \n",
      "2                                      0.0   \n",
      "3                                      0.0   \n",
      "4                                      0.0   \n",
      "..                                     ...   \n",
      "445                                    0.0   \n",
      "446                                    0.0   \n",
      "447                                    0.0   \n",
      "448                                    0.0   \n",
      "449                                    0.0   \n",
      "\n",
      "     Total Sales Value_-0.6230887373003464  Discount Rate (%)  \\\n",
      "0                                      0.0          -0.829365   \n",
      "1                                      0.0          -0.851714   \n",
      "2                                      0.0          -1.350129   \n",
      "3                                      0.0          -1.947555   \n",
      "4                                      0.0           0.672990   \n",
      "..                                     ...                ...   \n",
      "445                                    0.0           0.075924   \n",
      "446                                    0.0           0.450596   \n",
      "447                                    0.0           0.902788   \n",
      "448                                    0.0           0.388042   \n",
      "449                                    0.0           0.042188   \n",
      "\n",
      "     Discount Amount  Net Sales Value  \n",
      "0           3.948422         2.801638  \n",
      "1           1.846958         1.269613  \n",
      "2           1.621190         1.543957  \n",
      "3           1.112568         1.763847  \n",
      "4           0.227598        -0.227342  \n",
      "..               ...              ...  \n",
      "445        -0.652815        -0.609783  \n",
      "446        -0.152022        -0.378079  \n",
      "447        -0.607464        -0.601252  \n",
      "448        -0.529789        -0.554881  \n",
      "449        -0.636636        -0.600571  \n",
      "\n",
      "[450 rows x 140 columns]\n"
     ]
    }
   ],
   "source": [
    "encoder=ce.OneHotEncoder(cols='Total Sales Value',handle_unknown='return_nan',return_df=True,use_cat_names=True)\n",
    "selection_encoded=encoder.fit_transform(selection)\n",
    "print(selection_encoded)"
   ]
  },
  {
   "cell_type": "code",
   "execution_count": 281,
   "id": "62793344",
   "metadata": {},
   "outputs": [
    {
     "name": "stdout",
     "output_type": "stream",
     "text": [
      "       Volume  Avg Price  Total Sales Value  \\\n",
      "0    2.347417   0.091072           2.922469   \n",
      "1    1.165831  -0.019548           1.329516   \n",
      "2    0.456880   0.312312           1.561038   \n",
      "3    0.220563   0.533552           1.717365   \n",
      "4   -0.488389  -0.130168          -0.188242   \n",
      "..        ...        ...                ...   \n",
      "445 -0.724706  -0.506277          -0.617647   \n",
      "446  0.220563  -0.434374          -0.360400   \n",
      "447 -0.724706  -0.489684          -0.605774   \n",
      "448 -0.488389  -0.473091          -0.556303   \n",
      "449 -0.961023  -0.406719          -0.607753   \n",
      "\n",
      "     Discount Rate (%)_-0.8293654511585798  \\\n",
      "0                                      1.0   \n",
      "1                                      0.0   \n",
      "2                                      0.0   \n",
      "3                                      0.0   \n",
      "4                                      0.0   \n",
      "..                                     ...   \n",
      "445                                    0.0   \n",
      "446                                    0.0   \n",
      "447                                    0.0   \n",
      "448                                    0.0   \n",
      "449                                    0.0   \n",
      "\n",
      "     Discount Rate (%)_-0.8517135194385758  \\\n",
      "0                                      0.0   \n",
      "1                                      1.0   \n",
      "2                                      0.0   \n",
      "3                                      0.0   \n",
      "4                                      0.0   \n",
      "..                                     ...   \n",
      "445                                    0.0   \n",
      "446                                    0.0   \n",
      "447                                    0.0   \n",
      "448                                    0.0   \n",
      "449                                    0.0   \n",
      "\n",
      "     Discount Rate (%)_-1.3501287286632067  \\\n",
      "0                                      0.0   \n",
      "1                                      0.0   \n",
      "2                                      1.0   \n",
      "3                                      0.0   \n",
      "4                                      0.0   \n",
      "..                                     ...   \n",
      "445                                    0.0   \n",
      "446                                    0.0   \n",
      "447                                    0.0   \n",
      "448                                    0.0   \n",
      "449                                    0.0   \n",
      "\n",
      "     Discount Rate (%)_-1.947555413119026  \\\n",
      "0                                     0.0   \n",
      "1                                     0.0   \n",
      "2                                     0.0   \n",
      "3                                     1.0   \n",
      "4                                     0.0   \n",
      "..                                    ...   \n",
      "445                                   0.0   \n",
      "446                                   0.0   \n",
      "447                                   0.0   \n",
      "448                                   0.0   \n",
      "449                                   0.0   \n",
      "\n",
      "     Discount Rate (%)_0.6729896591363369  \\\n",
      "0                                     0.0   \n",
      "1                                     0.0   \n",
      "2                                     0.0   \n",
      "3                                     0.0   \n",
      "4                                     1.0   \n",
      "..                                    ...   \n",
      "445                                   0.0   \n",
      "446                                   0.0   \n",
      "447                                   0.0   \n",
      "448                                   0.0   \n",
      "449                                   0.0   \n",
      "\n",
      "     Discount Rate (%)_0.43625220955612504  \\\n",
      "0                                      0.0   \n",
      "1                                      0.0   \n",
      "2                                      0.0   \n",
      "3                                      0.0   \n",
      "4                                      0.0   \n",
      "..                                     ...   \n",
      "445                                    0.0   \n",
      "446                                    0.0   \n",
      "447                                    0.0   \n",
      "448                                    0.0   \n",
      "449                                    0.0   \n",
      "\n",
      "     Discount Rate (%)_-1.4041669700285164  ...  \\\n",
      "0                                      0.0  ...   \n",
      "1                                      0.0  ...   \n",
      "2                                      0.0  ...   \n",
      "3                                      0.0  ...   \n",
      "4                                      0.0  ...   \n",
      "..                                     ...  ...   \n",
      "445                                    0.0  ...   \n",
      "446                                    0.0  ...   \n",
      "447                                    0.0  ...   \n",
      "448                                    0.0  ...   \n",
      "449                                    0.0  ...   \n",
      "\n",
      "     Discount Rate (%)_0.4720383683275078  \\\n",
      "0                                     0.0   \n",
      "1                                     0.0   \n",
      "2                                     0.0   \n",
      "3                                     0.0   \n",
      "4                                     0.0   \n",
      "..                                    ...   \n",
      "445                                   0.0   \n",
      "446                                   0.0   \n",
      "447                                   0.0   \n",
      "448                                   0.0   \n",
      "449                                   0.0   \n",
      "\n",
      "     Discount Rate (%)_0.30502221385221745  \\\n",
      "0                                      0.0   \n",
      "1                                      0.0   \n",
      "2                                      0.0   \n",
      "3                                      0.0   \n",
      "4                                      0.0   \n",
      "..                                     ...   \n",
      "445                                    0.0   \n",
      "446                                    0.0   \n",
      "447                                    0.0   \n",
      "448                                    0.0   \n",
      "449                                    0.0   \n",
      "\n",
      "     Discount Rate (%)_-0.019496671821867723  \\\n",
      "0                                        0.0   \n",
      "1                                        0.0   \n",
      "2                                        0.0   \n",
      "3                                        0.0   \n",
      "4                                        0.0   \n",
      "..                                       ...   \n",
      "445                                      0.0   \n",
      "446                                      0.0   \n",
      "447                                      0.0   \n",
      "448                                      0.0   \n",
      "449                                      0.0   \n",
      "\n",
      "     Discount Rate (%)_0.07592412522182887  \\\n",
      "0                                      0.0   \n",
      "1                                      0.0   \n",
      "2                                      0.0   \n",
      "3                                      0.0   \n",
      "4                                      0.0   \n",
      "..                                     ...   \n",
      "445                                    1.0   \n",
      "446                                    0.0   \n",
      "447                                    0.0   \n",
      "448                                    0.0   \n",
      "449                                    0.0   \n",
      "\n",
      "     Discount Rate (%)_0.45059572668496695  \\\n",
      "0                                      0.0   \n",
      "1                                      0.0   \n",
      "2                                      0.0   \n",
      "3                                      0.0   \n",
      "4                                      0.0   \n",
      "..                                     ...   \n",
      "445                                    0.0   \n",
      "446                                    1.0   \n",
      "447                                    0.0   \n",
      "448                                    0.0   \n",
      "449                                    0.0   \n",
      "\n",
      "     Discount Rate (%)_0.9027878365359697  \\\n",
      "0                                     0.0   \n",
      "1                                     0.0   \n",
      "2                                     0.0   \n",
      "3                                     0.0   \n",
      "4                                     0.0   \n",
      "..                                    ...   \n",
      "445                                   0.0   \n",
      "446                                   0.0   \n",
      "447                                   1.0   \n",
      "448                                   0.0   \n",
      "449                                   0.0   \n",
      "\n",
      "     Discount Rate (%)_0.38804240024713155  \\\n",
      "0                                      0.0   \n",
      "1                                      0.0   \n",
      "2                                      0.0   \n",
      "3                                      0.0   \n",
      "4                                      0.0   \n",
      "..                                     ...   \n",
      "445                                    0.0   \n",
      "446                                    0.0   \n",
      "447                                    0.0   \n",
      "448                                    1.0   \n",
      "449                                    0.0   \n",
      "\n",
      "     Discount Rate (%)_0.04218780438439021  Discount Amount  Net Sales Value  \n",
      "0                                      0.0         3.948422         2.801638  \n",
      "1                                      0.0         1.846958         1.269613  \n",
      "2                                      0.0         1.621190         1.543957  \n",
      "3                                      0.0         1.112568         1.763847  \n",
      "4                                      0.0         0.227598        -0.227342  \n",
      "..                                     ...              ...              ...  \n",
      "445                                    0.0        -0.652815        -0.609783  \n",
      "446                                    0.0        -0.152022        -0.378079  \n",
      "447                                    0.0        -0.607464        -0.601252  \n",
      "448                                    0.0        -0.529789        -0.554881  \n",
      "449                                    1.0        -0.636636        -0.600571  \n",
      "\n",
      "[450 rows x 455 columns]\n"
     ]
    }
   ],
   "source": [
    "encoder=ce.OneHotEncoder(cols='Discount Rate (%)',handle_unknown='return_nan',return_df=True,use_cat_names=True)\n",
    "selection_encoded=encoder.fit_transform(selection)\n",
    "print(selection_encoded)"
   ]
  },
  {
   "cell_type": "code",
   "execution_count": 282,
   "id": "41fcc8eb",
   "metadata": {},
   "outputs": [
    {
     "name": "stdout",
     "output_type": "stream",
     "text": [
      "       Volume  Avg Price  Total Sales Value  Discount Rate (%)  \\\n",
      "0    2.347417   0.091072           2.922469          -0.829365   \n",
      "1    1.165831  -0.019548           1.329516          -0.851714   \n",
      "2    0.456880   0.312312           1.561038          -1.350129   \n",
      "3    0.220563   0.533552           1.717365          -1.947555   \n",
      "4   -0.488389  -0.130168          -0.188242           0.672990   \n",
      "..        ...        ...                ...                ...   \n",
      "445 -0.724706  -0.506277          -0.617647           0.075924   \n",
      "446  0.220563  -0.434374          -0.360400           0.450596   \n",
      "447 -0.724706  -0.489684          -0.605774           0.902788   \n",
      "448 -0.488389  -0.473091          -0.556303           0.388042   \n",
      "449 -0.961023  -0.406719          -0.607753           0.042188   \n",
      "\n",
      "     Discount Amount_3.9484218485285907  Discount Amount_1.8469584832145978  \\\n",
      "0                                   1.0                                 0.0   \n",
      "1                                   0.0                                 1.0   \n",
      "2                                   0.0                                 0.0   \n",
      "3                                   0.0                                 0.0   \n",
      "4                                   0.0                                 0.0   \n",
      "..                                  ...                                 ...   \n",
      "445                                 0.0                                 0.0   \n",
      "446                                 0.0                                 0.0   \n",
      "447                                 0.0                                 0.0   \n",
      "448                                 0.0                                 0.0   \n",
      "449                                 0.0                                 0.0   \n",
      "\n",
      "     Discount Amount_1.6211902543738443  Discount Amount_1.1125683453728032  \\\n",
      "0                                   0.0                                 0.0   \n",
      "1                                   0.0                                 0.0   \n",
      "2                                   1.0                                 0.0   \n",
      "3                                   0.0                                 1.0   \n",
      "4                                   0.0                                 0.0   \n",
      "..                                  ...                                 ...   \n",
      "445                                 0.0                                 0.0   \n",
      "446                                 0.0                                 0.0   \n",
      "447                                 0.0                                 0.0   \n",
      "448                                 0.0                                 0.0   \n",
      "449                                 0.0                                 0.0   \n",
      "\n",
      "     Discount Amount_0.2275984238377433  Discount Amount_0.17376147275157336  \\\n",
      "0                                   0.0                                  0.0   \n",
      "1                                   0.0                                  0.0   \n",
      "2                                   0.0                                  0.0   \n",
      "3                                   0.0                                  0.0   \n",
      "4                                   1.0                                  0.0   \n",
      "..                                  ...                                  ...   \n",
      "445                                 0.0                                  0.0   \n",
      "446                                 0.0                                  0.0   \n",
      "447                                 0.0                                  0.0   \n",
      "448                                 0.0                                  0.0   \n",
      "449                                 0.0                                  0.0   \n",
      "\n",
      "     ...  Discount Amount_-0.6861464647606148  \\\n",
      "0    ...                                  0.0   \n",
      "1    ...                                  0.0   \n",
      "2    ...                                  0.0   \n",
      "3    ...                                  0.0   \n",
      "4    ...                                  0.0   \n",
      "..   ...                                  ...   \n",
      "445  ...                                  0.0   \n",
      "446  ...                                  0.0   \n",
      "447  ...                                  0.0   \n",
      "448  ...                                  0.0   \n",
      "449  ...                                  0.0   \n",
      "\n",
      "     Discount Amount_-0.5024953254339719  Discount Amount_-0.599843786732245  \\\n",
      "0                                    0.0                                 0.0   \n",
      "1                                    0.0                                 0.0   \n",
      "2                                    0.0                                 0.0   \n",
      "3                                    0.0                                 0.0   \n",
      "4                                    0.0                                 0.0   \n",
      "..                                   ...                                 ...   \n",
      "445                                  0.0                                 0.0   \n",
      "446                                  0.0                                 0.0   \n",
      "447                                  0.0                                 0.0   \n",
      "448                                  0.0                                 0.0   \n",
      "449                                  0.0                                 0.0   \n",
      "\n",
      "     Discount Amount_-0.3211181225249772  Discount Amount_-0.6528148333346525  \\\n",
      "0                                    0.0                                  0.0   \n",
      "1                                    0.0                                  0.0   \n",
      "2                                    0.0                                  0.0   \n",
      "3                                    0.0                                  0.0   \n",
      "4                                    0.0                                  0.0   \n",
      "..                                   ...                                  ...   \n",
      "445                                  0.0                                  1.0   \n",
      "446                                  0.0                                  0.0   \n",
      "447                                  0.0                                  0.0   \n",
      "448                                  0.0                                  0.0   \n",
      "449                                  0.0                                  0.0   \n",
      "\n",
      "     Discount Amount_-0.1520217149519512  Discount Amount_-0.6074635841996567  \\\n",
      "0                                    0.0                                  0.0   \n",
      "1                                    0.0                                  0.0   \n",
      "2                                    0.0                                  0.0   \n",
      "3                                    0.0                                  0.0   \n",
      "4                                    0.0                                  0.0   \n",
      "..                                   ...                                  ...   \n",
      "445                                  0.0                                  0.0   \n",
      "446                                  1.0                                  0.0   \n",
      "447                                  0.0                                  1.0   \n",
      "448                                  0.0                                  0.0   \n",
      "449                                  0.0                                  0.0   \n",
      "\n",
      "     Discount Amount_-0.5297891369480724  Discount Amount_-0.6366361211845204  \\\n",
      "0                                    0.0                                  0.0   \n",
      "1                                    0.0                                  0.0   \n",
      "2                                    0.0                                  0.0   \n",
      "3                                    0.0                                  0.0   \n",
      "4                                    0.0                                  0.0   \n",
      "..                                   ...                                  ...   \n",
      "445                                  0.0                                  0.0   \n",
      "446                                  0.0                                  0.0   \n",
      "447                                  0.0                                  0.0   \n",
      "448                                  1.0                                  0.0   \n",
      "449                                  0.0                                  1.0   \n",
      "\n",
      "     Net Sales Value  \n",
      "0           2.801638  \n",
      "1           1.269613  \n",
      "2           1.543957  \n",
      "3           1.763847  \n",
      "4          -0.227342  \n",
      "..               ...  \n",
      "445        -0.609783  \n",
      "446        -0.378079  \n",
      "447        -0.601252  \n",
      "448        -0.554881  \n",
      "449        -0.600571  \n",
      "\n",
      "[450 rows x 455 columns]\n"
     ]
    }
   ],
   "source": [
    "encoder=ce.OneHotEncoder(cols='Discount Amount',handle_unknown='return_nan',return_df=True,use_cat_names=True)\n",
    "selection_encoded=encoder.fit_transform(selection)\n",
    "print(selection_encoded)"
   ]
  },
  {
   "cell_type": "code",
   "execution_count": 283,
   "id": "f6998e21",
   "metadata": {},
   "outputs": [
    {
     "name": "stdout",
     "output_type": "stream",
     "text": [
      "       Volume  Avg Price  Total Sales Value  Discount Rate (%)  \\\n",
      "0    2.347417   0.091072           2.922469          -0.829365   \n",
      "1    1.165831  -0.019548           1.329516          -0.851714   \n",
      "2    0.456880   0.312312           1.561038          -1.350129   \n",
      "3    0.220563   0.533552           1.717365          -1.947555   \n",
      "4   -0.488389  -0.130168          -0.188242           0.672990   \n",
      "..        ...        ...                ...                ...   \n",
      "445 -0.724706  -0.506277          -0.617647           0.075924   \n",
      "446  0.220563  -0.434374          -0.360400           0.450596   \n",
      "447 -0.724706  -0.489684          -0.605774           0.902788   \n",
      "448 -0.488389  -0.473091          -0.556303           0.388042   \n",
      "449 -0.961023  -0.406719          -0.607753           0.042188   \n",
      "\n",
      "     Discount Amount  Net Sales Value_2.801637806340356  \\\n",
      "0           3.948422                                1.0   \n",
      "1           1.846958                                0.0   \n",
      "2           1.621190                                0.0   \n",
      "3           1.112568                                0.0   \n",
      "4           0.227598                                0.0   \n",
      "..               ...                                ...   \n",
      "445        -0.652815                                0.0   \n",
      "446        -0.152022                                0.0   \n",
      "447        -0.607464                                0.0   \n",
      "448        -0.529789                                0.0   \n",
      "449        -0.636636                                0.0   \n",
      "\n",
      "     Net Sales Value_1.2696131681518665  Net Sales Value_1.5439565967679039  \\\n",
      "0                                   0.0                                 0.0   \n",
      "1                                   1.0                                 0.0   \n",
      "2                                   0.0                                 1.0   \n",
      "3                                   0.0                                 0.0   \n",
      "4                                   0.0                                 0.0   \n",
      "..                                  ...                                 ...   \n",
      "445                                 0.0                                 0.0   \n",
      "446                                 0.0                                 0.0   \n",
      "447                                 0.0                                 0.0   \n",
      "448                                 0.0                                 0.0   \n",
      "449                                 0.0                                 0.0   \n",
      "\n",
      "     Net Sales Value_1.763847253593763  Net Sales Value_-0.2273422728186144  \\\n",
      "0                                  0.0                                  0.0   \n",
      "1                                  0.0                                  0.0   \n",
      "2                                  0.0                                  0.0   \n",
      "3                                  1.0                                  0.0   \n",
      "4                                  0.0                                  1.0   \n",
      "..                                 ...                                  ...   \n",
      "445                                0.0                                  0.0   \n",
      "446                                0.0                                  0.0   \n",
      "447                                0.0                                  0.0   \n",
      "448                                0.0                                  0.0   \n",
      "449                                0.0                                  0.0   \n",
      "\n",
      "     ...  Net Sales Value_-0.576113459610349  \\\n",
      "0    ...                                 0.0   \n",
      "1    ...                                 0.0   \n",
      "2    ...                                 0.0   \n",
      "3    ...                                 0.0   \n",
      "4    ...                                 0.0   \n",
      "..   ...                                 ...   \n",
      "445  ...                                 0.0   \n",
      "446  ...                                 0.0   \n",
      "447  ...                                 0.0   \n",
      "448  ...                                 0.0   \n",
      "449  ...                                 0.0   \n",
      "\n",
      "     Net Sales Value_-0.6302680817054817  Net Sales Value_-0.544593658161778  \\\n",
      "0                                    0.0                                 0.0   \n",
      "1                                    0.0                                 0.0   \n",
      "2                                    0.0                                 0.0   \n",
      "3                                    0.0                                 0.0   \n",
      "4                                    0.0                                 0.0   \n",
      "..                                   ...                                 ...   \n",
      "445                                  0.0                                 0.0   \n",
      "446                                  0.0                                 0.0   \n",
      "447                                  0.0                                 0.0   \n",
      "448                                  0.0                                 0.0   \n",
      "449                                  0.0                                 0.0   \n",
      "\n",
      "     Net Sales Value_-0.586893587208595  Net Sales Value_-0.4264710287784016  \\\n",
      "0                                   0.0                                  0.0   \n",
      "1                                   0.0                                  0.0   \n",
      "2                                   0.0                                  0.0   \n",
      "3                                   0.0                                  0.0   \n",
      "4                                   0.0                                  0.0   \n",
      "..                                  ...                                  ...   \n",
      "445                                 0.0                                  0.0   \n",
      "446                                 0.0                                  0.0   \n",
      "447                                 0.0                                  0.0   \n",
      "448                                 0.0                                  0.0   \n",
      "449                                 0.0                                  0.0   \n",
      "\n",
      "     Net Sales Value_-0.6097826395935632  Net Sales Value_-0.3780789533007604  \\\n",
      "0                                    0.0                                  0.0   \n",
      "1                                    0.0                                  0.0   \n",
      "2                                    0.0                                  0.0   \n",
      "3                                    0.0                                  0.0   \n",
      "4                                    0.0                                  0.0   \n",
      "..                                   ...                                  ...   \n",
      "445                                  1.0                                  0.0   \n",
      "446                                  0.0                                  1.0   \n",
      "447                                  0.0                                  0.0   \n",
      "448                                  0.0                                  0.0   \n",
      "449                                  0.0                                  0.0   \n",
      "\n",
      "     Net Sales Value_-0.6012519724877141  Net Sales Value_-0.5548810045454036  \\\n",
      "0                                    0.0                                  0.0   \n",
      "1                                    0.0                                  0.0   \n",
      "2                                    0.0                                  0.0   \n",
      "3                                    0.0                                  0.0   \n",
      "4                                    0.0                                  0.0   \n",
      "..                                   ...                                  ...   \n",
      "445                                  0.0                                  0.0   \n",
      "446                                  0.0                                  0.0   \n",
      "447                                  1.0                                  0.0   \n",
      "448                                  0.0                                  1.0   \n",
      "449                                  0.0                                  0.0   \n",
      "\n",
      "     Net Sales Value_-0.6005710789222996  \n",
      "0                                    0.0  \n",
      "1                                    0.0  \n",
      "2                                    0.0  \n",
      "3                                    0.0  \n",
      "4                                    0.0  \n",
      "..                                   ...  \n",
      "445                                  0.0  \n",
      "446                                  0.0  \n",
      "447                                  0.0  \n",
      "448                                  0.0  \n",
      "449                                  1.0  \n",
      "\n",
      "[450 rows x 455 columns]\n"
     ]
    }
   ],
   "source": [
    "encoder=ce.OneHotEncoder(cols='Net Sales Value',handle_unknown='return_nan',return_df=True,use_cat_names=True)\n",
    "selection_encoded=encoder.fit_transform(selection)\n",
    "print(selection_encoded)"
   ]
  },
  {
   "cell_type": "code",
   "execution_count": null,
   "id": "2ead47f7",
   "metadata": {},
   "outputs": [],
   "source": []
  }
 ],
 "metadata": {
  "kernelspec": {
   "display_name": "Python 3 (ipykernel)",
   "language": "python",
   "name": "python3"
  },
  "language_info": {
   "codemirror_mode": {
    "name": "ipython",
    "version": 3
   },
   "file_extension": ".py",
   "mimetype": "text/x-python",
   "name": "python",
   "nbconvert_exporter": "python",
   "pygments_lexer": "ipython3",
   "version": "3.11.5"
  }
 },
 "nbformat": 4,
 "nbformat_minor": 5
}
