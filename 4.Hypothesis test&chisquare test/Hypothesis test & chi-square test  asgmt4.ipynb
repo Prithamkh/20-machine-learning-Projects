{
 "cells": [
  {
   "cell_type": "markdown",
   "id": "29028dbc",
   "metadata": {},
   "source": [
    "# HYPOTHESIS TESTING"
   ]
  },
  {
   "cell_type": "markdown",
   "id": "aaacb258",
   "metadata": {},
   "source": [
    "# State the Hypotheses statement"
   ]
  },
  {
   "cell_type": "code",
   "execution_count": null,
   "id": "bda3afc8",
   "metadata": {},
   "outputs": [],
   "source": [
    "H0 : there is increase in weekly operating cost"
   ]
  },
  {
   "cell_type": "code",
   "execution_count": null,
   "id": "d6bfcdd8",
   "metadata": {},
   "outputs": [],
   "source": [
    "H1 : there is no increase in weekly operating cost"
   ]
  },
  {
   "cell_type": "markdown",
   "id": "f1163ab3",
   "metadata": {},
   "source": [
    "# Level of Significance"
   ]
  },
  {
   "cell_type": "code",
   "execution_count": null,
   "id": "55232fb6",
   "metadata": {},
   "outputs": [],
   "source": [
    "we'll go for one tailed test(either higher or lower) for z test of hypothesis becouse restaurent owner claims for higher\n",
    "cost increase we'll take 5% chance of 95% confident of predicting actual value so alpha 0.05"
   ]
  },
  {
   "cell_type": "markdown",
   "id": "e113cae5",
   "metadata": {},
   "source": [
    "# Calculate the Test Statistics"
   ]
  },
  {
   "cell_type": "markdown",
   "id": "a0ea58e0",
   "metadata": {},
   "source": [
    "# Z test Statistics Z score"
   ]
  },
  {
   "cell_type": "code",
   "execution_count": null,
   "id": "cec04093",
   "metadata": {},
   "outputs": [],
   "source": [
    "•ˉxˉ = sample mean weekly cost (Rs. 3,050)\n",
    "•μ = theoretical mean weekly cost according to the cost model (W = $1,000 + $5X for X = 600 units)\n",
    "•σ = 5*25 units\n",
    "•n = sample size (25 restaurants)\n",
    "        Z=Score= Sample mean-Population mean/population std dev/sqrrt(sample size n)\n",
    "        Z-Score= 3050-600/125/sqrrt(25)\n",
    "        Z-Score= 2450/25\n",
    "        Z-Score= 98"
   ]
  },
  {
   "cell_type": "markdown",
   "id": "11249c78",
   "metadata": {},
   "source": [
    "# Find the Critical Value"
   ]
  },
  {
   "cell_type": "code",
   "execution_count": null,
   "id": "9c9bf828",
   "metadata": {},
   "outputs": [],
   "source": [
    "for level of significance 5% from the normal distribution table Alpha 0.05 calculated Z table is 1.645"
   ]
  },
  {
   "cell_type": "markdown",
   "id": "23b96eae",
   "metadata": {},
   "source": [
    "# Make a Decision"
   ]
  },
  {
   "cell_type": "code",
   "execution_count": null,
   "id": "ae062e66",
   "metadata": {},
   "outputs": [],
   "source": [
    "in test statistics Z statistics one tailed(either right or left) z stat is > z score critical value\n",
    "we reject the null hypothesis if z stat < z score we will not reject the null hypothesis\n",
    "here Z stat is > Z score so we reject the null hypothesis"
   ]
  },
  {
   "cell_type": "markdown",
   "id": "9a5e7f26",
   "metadata": {},
   "source": [
    "# Conclusion"
   ]
  },
  {
   "cell_type": "code",
   "execution_count": null,
   "id": "5ebd8d2f",
   "metadata": {},
   "outputs": [],
   "source": [
    "we conclude that null hypothesis is rejected, the is no increase in weekly operating cost, \n",
    "So there is no strong evidence to support the restaurant owners to\n",
    "claim that the weekly operating costs are higher than the model suggests"
   ]
  },
  {
   "cell_type": "markdown",
   "id": "55360706",
   "metadata": {},
   "source": [
    "# Hypothesis testing using Python code"
   ]
  },
  {
   "cell_type": "code",
   "execution_count": 2,
   "id": "e2ac44ab",
   "metadata": {},
   "outputs": [
    {
     "name": "stdout",
     "output_type": "stream",
     "text": [
      "Requirement already satisfied: numpy in c:\\users\\pritham hajagolkar\\anaconda3\\lib\\site-packages (1.24.3)\n"
     ]
    }
   ],
   "source": [
    "!pip install numpy"
   ]
  },
  {
   "cell_type": "code",
   "execution_count": 5,
   "id": "6b20f5b2",
   "metadata": {},
   "outputs": [
    {
     "name": "stdout",
     "output_type": "stream",
     "text": [
      "Requirement already satisfied: scipy in c:\\users\\pritham hajagolkar\\anaconda3\\lib\\site-packages (1.11.1)\n",
      "Requirement already satisfied: numpy<1.28.0,>=1.21.6 in c:\\users\\pritham hajagolkar\\anaconda3\\lib\\site-packages (from scipy) (1.24.3)\n"
     ]
    }
   ],
   "source": [
    "!pip install scipy"
   ]
  },
  {
   "cell_type": "code",
   "execution_count": 4,
   "id": "9825d8d7",
   "metadata": {},
   "outputs": [
    {
     "name": "stdout",
     "output_type": "stream",
     "text": [
      "Requirement already satisfied: pandas in c:\\users\\pritham hajagolkar\\anaconda3\\lib\\site-packages (2.0.3)\n",
      "Requirement already satisfied: python-dateutil>=2.8.2 in c:\\users\\pritham hajagolkar\\anaconda3\\lib\\site-packages (from pandas) (2.8.2)\n",
      "Requirement already satisfied: pytz>=2020.1 in c:\\users\\pritham hajagolkar\\anaconda3\\lib\\site-packages (from pandas) (2023.3.post1)\n",
      "Requirement already satisfied: tzdata>=2022.1 in c:\\users\\pritham hajagolkar\\anaconda3\\lib\\site-packages (from pandas) (2023.3)\n",
      "Requirement already satisfied: numpy>=1.21.0 in c:\\users\\pritham hajagolkar\\anaconda3\\lib\\site-packages (from pandas) (1.24.3)\n",
      "Requirement already satisfied: six>=1.5 in c:\\users\\pritham hajagolkar\\anaconda3\\lib\\site-packages (from python-dateutil>=2.8.2->pandas) (1.16.0)\n"
     ]
    }
   ],
   "source": [
    "!pip install pandas"
   ]
  },
  {
   "cell_type": "code",
   "execution_count": 6,
   "id": "565ffa13",
   "metadata": {},
   "outputs": [],
   "source": [
    "import numpy as np"
   ]
  },
  {
   "cell_type": "code",
   "execution_count": 8,
   "id": "e99deee5",
   "metadata": {},
   "outputs": [],
   "source": [
    "import scipy.stats as stats"
   ]
  },
  {
   "cell_type": "code",
   "execution_count": 9,
   "id": "f37cb429",
   "metadata": {},
   "outputs": [
    {
     "name": "stdout",
     "output_type": "stream",
     "text": [
      "z_score: 98.0\n",
      "Critical z_score: 1.6448536269514722\n",
      "Reject null hypothesis\n",
      "P-value: 0.0\n",
      "Reject null hypothesis\n"
     ]
    }
   ],
   "source": [
    "#Given information\n",
    "sample_mean = 3050\n",
    "population_mean = 600\n",
    "population_stddv = 125\n",
    "sample_size = 25\n",
    "alpha = 0.05\n",
    "\n",
    "#Compute the Zscore\n",
    "z_score= (sample_mean-population_mean)/(population_stddv/np.sqrt(25))\n",
    "print('z_score:',z_score)\n",
    "\n",
    "#Approach 1 : using Critical Z_score\n",
    "#Critical Z_score\n",
    "z_critical= stats.norm.ppf(1-alpha)\n",
    "print('Critical z_score:',z_critical)\n",
    "\n",
    "#Hypothesis\n",
    "if z_score > z_critical:\n",
    "    print('Reject null hypothesis')\n",
    "else:\n",
    "    print('Fail to reject the null hypothesis')\n",
    "\n",
    "#Approach 2 : Using P-Value\n",
    "#P-value : Probability of getting less than z_score\n",
    "p_value= 1-stats.norm.cdf(z_score)\n",
    "print('P-value:',p_value)\n",
    "\n",
    "#Hypothesis\n",
    "if p_value < alpha:\n",
    "    print('Reject null hypothesis')\n",
    "else:\n",
    "    print('Fail to reject the null hypothesis')"
   ]
  },
  {
   "cell_type": "code",
   "execution_count": null,
   "id": "0ca8fbb4",
   "metadata": {},
   "outputs": [],
   "source": []
  }
 ],
 "metadata": {
  "kernelspec": {
   "display_name": "Python 3 (ipykernel)",
   "language": "python",
   "name": "python3"
  },
  "language_info": {
   "codemirror_mode": {
    "name": "ipython",
    "version": 3
   },
   "file_extension": ".py",
   "mimetype": "text/x-python",
   "name": "python",
   "nbconvert_exporter": "python",
   "pygments_lexer": "ipython3",
   "version": "3.11.5"
  }
 },
 "nbformat": 4,
 "nbformat_minor": 5
}
