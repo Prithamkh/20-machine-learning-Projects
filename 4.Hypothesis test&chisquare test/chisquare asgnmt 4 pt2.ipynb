{
 "cells": [
  {
   "cell_type": "markdown",
   "id": "8e781d7a",
   "metadata": {},
   "source": [
    "# Chi Square Test"
   ]
  },
  {
   "cell_type": "markdown",
   "id": "e4ed7ac8",
   "metadata": {},
   "source": [
    "# State The Hypothesis"
   ]
  },
  {
   "cell_type": "code",
   "execution_count": null,
   "id": "605847f9",
   "metadata": {},
   "outputs": [],
   "source": [
    "Null Hypothesis H0 : There is a significant accosiation between types of device & coustomer satisfaction level"
   ]
  },
  {
   "cell_type": "code",
   "execution_count": null,
   "id": "d32e212e",
   "metadata": {},
   "outputs": [],
   "source": [
    "Alternative Hypothesis H1 : There is no a significant accosiation between types of device & coustomer satisfaction level"
   ]
  },
  {
   "cell_type": "markdown",
   "id": "2059ad1b",
   "metadata": {},
   "source": [
    "# Level of Significance"
   ]
  },
  {
   "cell_type": "code",
   "execution_count": null,
   "id": "98e150b0",
   "metadata": {},
   "outputs": [],
   "source": [
    "we will take 5% of significance which determines the normal distribution 0.05 with 95% of cofidence\n",
    "that the absolute result will be similar to 100% accuracy"
   ]
  },
  {
   "cell_type": "markdown",
   "id": "bb531818",
   "metadata": {},
   "source": [
    "# Computing Chisquare Statistics"
   ]
  },
  {
   "cell_type": "code",
   "execution_count": null,
   "id": "12e2ede0",
   "metadata": {},
   "outputs": [],
   "source": [
    "x^2 = SUM(Total Rows * Total Columns/Total Columns)\n",
    "x^2 =∑ ((Oij-Eij)^2/Eij) Chisquare Formula\n",
    "Oij is the observed frequency in cell(Row & Columns)ij\n",
    "Eij is the expected frequency in cell(Row & Columns)ij"
   ]
  },
  {
   "cell_type": "markdown",
   "id": "cc7e0065",
   "metadata": {},
   "source": [
    "# Contingency Table(Cross Table) Observed Value Table or Data"
   ]
  },
  {
   "cell_type": "code",
   "execution_count": null,
   "id": "c2669e64",
   "metadata": {},
   "outputs": [],
   "source": [
    "Satisfaction       SmartThermostat      Smart Light    Total\n",
    "Very Satisfied      50                      70          120\n",
    "Satisfied           80                     100          180\n",
    "Neutral             60                      90          150\n",
    "Unsatisfied         30                      50           80\n",
    "Very Unsatisfied    20                      50           70\n",
    "Total               240                    360          600"
   ]
  },
  {
   "cell_type": "markdown",
   "id": "4ed816fa",
   "metadata": {},
   "source": [
    "# P value"
   ]
  },
  {
   "cell_type": "code",
   "execution_count": null,
   "id": "98e973ef",
   "metadata": {},
   "outputs": [],
   "source": [
    "its a significant factor to dermine whether the relation between the variables is of considerable significant\n",
    "A Significance value Alpha value of 0.05(5%)is choosen this alpha value denotes rejecting H0 when its true\n",
    "if Alpha value>Pvalue H0 is rejected\n",
    "if Alpha Value<Pvalue H0 is accepted"
   ]
  },
  {
   "cell_type": "markdown",
   "id": "04f631bc",
   "metadata": {},
   "source": [
    "# Using Chi_Square Value"
   ]
  },
  {
   "cell_type": "code",
   "execution_count": null,
   "id": "c85d6c4c",
   "metadata": {},
   "outputs": [],
   "source": [
    "if our Calculated Value of chisquare is less than 0r equale to the tabular(critical value/table value)value\n",
    "of chisquare then we will accept our H0 or reject the H0 and will accept the H1"
   ]
  },
  {
   "cell_type": "markdown",
   "id": "34804f2e",
   "metadata": {},
   "source": [
    "# Expected Value Table"
   ]
  },
  {
   "cell_type": "code",
   "execution_count": null,
   "id": "436e5e46",
   "metadata": {},
   "outputs": [],
   "source": [
    "we prepare similar table of calculated(expected)value To do this we need to calculate each item in the new table as\n",
    "each item(row/columns)=Total row*Total columns/Grand Total"
   ]
  },
  {
   "cell_type": "code",
   "execution_count": null,
   "id": "409413d9",
   "metadata": {},
   "outputs": [],
   "source": [
    "Satisfaction       SmartThermostat      Smart Light    Total\n",
    "Very Satisfied      48                      72          120\n",
    "Satisfied           72                     108          180\n",
    "Neutral             60                      90          150\n",
    "Unsatisfied         32                      48           80\n",
    "Very Unsatisfied    28                      42           70\n",
    "Total               240                    360          600"
   ]
  },
  {
   "cell_type": "markdown",
   "id": "5c29aebd",
   "metadata": {},
   "source": [
    "# Chi-Square table"
   ]
  },
  {
   "cell_type": "code",
   "execution_count": null,
   "id": "f4da2dd6",
   "metadata": {},
   "outputs": [],
   "source": [
    "                   Observed(O)      Calculated(C)     (O-C)^2/C\n",
    "                    50                    48           0.083\n",
    "                    70                    72           0.055\n",
    "                    80                    72           0.888\n",
    "                    100                   108          0.592\n",
    "                    60                    60           0\n",
    "                    90                    90           0\n",
    "                    30                    32           0.125\n",
    "                    50                    48           0.083\n",
    "                    20                    28           2.285\n",
    "                    50                    42           1.523     \n",
    "    Total                                              5.634(Calculated Value)                                              "
   ]
  },
  {
   "cell_type": "markdown",
   "id": "2aa1e86f",
   "metadata": {},
   "source": [
    "# Critical Value of Chi-square"
   ]
  },
  {
   "cell_type": "code",
   "execution_count": null,
   "id": "c9e75311",
   "metadata": {},
   "outputs": [],
   "source": [
    "Critical value of chisquare can be obtained by chisquare distribution table to use this table we need to\n",
    "know the degree of freedom for the dataset\n",
    "And degree of freedom is defined as (n.o of row - 1)*(n.o of columns - 1)\n",
    "(5-1)*(2-1)=4 now we need to see the 4 degree of freedom for 0.05(5%)\n",
    "the Tabular or Criticla value of Chi-square is 9.488"
   ]
  },
  {
   "cell_type": "markdown",
   "id": "59259a2b",
   "metadata": {},
   "source": [
    "# Make a Decision"
   ]
  },
  {
   "cell_type": "code",
   "execution_count": null,
   "id": "cdf8b74f",
   "metadata": {},
   "outputs": [],
   "source": [
    "if the critical value or Tabular value is greater than or equal to >= Calculated value we accept the H0\n",
    "And our critical tabular chisquare value is 9.488>=5.634 Calculated value and we accept the H0\n",
    "null hypothesis : There is a significant accosiation between types of device & coustomer satisfaction level"
   ]
  },
  {
   "cell_type": "markdown",
   "id": "cfc0b126",
   "metadata": {},
   "source": [
    "# Performing Test Using Python Code"
   ]
  },
  {
   "cell_type": "code",
   "execution_count": 1,
   "id": "96960f74",
   "metadata": {},
   "outputs": [
    {
     "name": "stdout",
     "output_type": "stream",
     "text": [
      "Requirement already satisfied: scipy in c:\\users\\pritham hajagolkar\\anaconda3\\lib\\site-packages (1.11.1)\n",
      "Requirement already satisfied: numpy<1.28.0,>=1.21.6 in c:\\users\\pritham hajagolkar\\anaconda3\\lib\\site-packages (from scipy) (1.24.3)\n"
     ]
    }
   ],
   "source": [
    "!pip install scipy"
   ]
  },
  {
   "cell_type": "code",
   "execution_count": 2,
   "id": "997533eb",
   "metadata": {},
   "outputs": [
    {
     "name": "stdout",
     "output_type": "stream",
     "text": [
      "Requirement already satisfied: pandas in c:\\users\\pritham hajagolkar\\anaconda3\\lib\\site-packages (2.0.3)\n",
      "Requirement already satisfied: python-dateutil>=2.8.2 in c:\\users\\pritham hajagolkar\\anaconda3\\lib\\site-packages (from pandas) (2.8.2)\n",
      "Requirement already satisfied: pytz>=2020.1 in c:\\users\\pritham hajagolkar\\anaconda3\\lib\\site-packages (from pandas) (2023.3.post1)\n",
      "Requirement already satisfied: tzdata>=2022.1 in c:\\users\\pritham hajagolkar\\anaconda3\\lib\\site-packages (from pandas) (2023.3)\n",
      "Requirement already satisfied: numpy>=1.21.0 in c:\\users\\pritham hajagolkar\\anaconda3\\lib\\site-packages (from pandas) (1.24.3)\n",
      "Requirement already satisfied: six>=1.5 in c:\\users\\pritham hajagolkar\\anaconda3\\lib\\site-packages (from python-dateutil>=2.8.2->pandas) (1.16.0)\n"
     ]
    }
   ],
   "source": [
    "!pip install pandas"
   ]
  },
  {
   "cell_type": "code",
   "execution_count": 3,
   "id": "6453d21a",
   "metadata": {},
   "outputs": [
    {
     "name": "stdout",
     "output_type": "stream",
     "text": [
      "Requirement already satisfied: numpy in c:\\users\\pritham hajagolkar\\anaconda3\\lib\\site-packages (1.24.3)\n"
     ]
    }
   ],
   "source": [
    "!pip install numpy"
   ]
  },
  {
   "cell_type": "code",
   "execution_count": 4,
   "id": "df2ba8a2",
   "metadata": {},
   "outputs": [],
   "source": [
    "import pandas as pd"
   ]
  },
  {
   "cell_type": "code",
   "execution_count": 5,
   "id": "085de7ab",
   "metadata": {},
   "outputs": [],
   "source": [
    "import numpy as np"
   ]
  },
  {
   "cell_type": "code",
   "execution_count": 15,
   "id": "e9d48a1e",
   "metadata": {},
   "outputs": [],
   "source": [
    "import scipy.stats as chi10_contingency"
   ]
  },
  {
   "cell_type": "code",
   "execution_count": 9,
   "id": "307f21d0",
   "metadata": {},
   "outputs": [],
   "source": [
    "import math"
   ]
  },
  {
   "cell_type": "code",
   "execution_count": 29,
   "id": "baee8d3b",
   "metadata": {},
   "outputs": [
    {
     "name": "stdout",
     "output_type": "stream",
     "text": [
      "data [[ 50  48]\n",
      " [ 70  72]\n",
      " [ 80  72]\n",
      " [100 108]\n",
      " [ 60  60]\n",
      " [ 90  90]\n",
      " [ 30  32]\n",
      " [ 50  48]\n",
      " [ 20  28]\n",
      " [ 50  42]]\n",
      "alpha 0.05\n",
      "cal_value 5.634\n",
      "cri_cs 9.488\n",
      "accept H0 : There is a significant accosiation between types of device & coustomer satisfaction level\n"
     ]
    }
   ],
   "source": [
    "#difinig the table\n",
    "data =np.array([[50,48],[70,72],[80,72],[100,108],[60,60],[90,90],[30,32],[50,48],[20,28],[50,42]])\n",
    "print('data',data)\n",
    "#interpret critical chisquare\n",
    "alpha=0.05\n",
    "print('alpha',alpha)\n",
    "cal_value=5.634\n",
    "print('cal_value',cal_value)\n",
    "cri_cs=9.488\n",
    "print('cri_cs',cri_cs)\n",
    "if  cri_cs<=cal_value:\n",
    "    print('Reject H0 Accept H1')\n",
    "else:\n",
    "    print('accept H0 : There is a significant accosiation between types of device & coustomer satisfaction level')"
   ]
  },
  {
   "cell_type": "code",
   "execution_count": null,
   "id": "64b90c63",
   "metadata": {},
   "outputs": [],
   "source": []
  }
 ],
 "metadata": {
  "kernelspec": {
   "display_name": "Python 3 (ipykernel)",
   "language": "python",
   "name": "python3"
  },
  "language_info": {
   "codemirror_mode": {
    "name": "ipython",
    "version": 3
   },
   "file_extension": ".py",
   "mimetype": "text/x-python",
   "name": "python",
   "nbconvert_exporter": "python",
   "pygments_lexer": "ipython3",
   "version": "3.11.5"
  }
 },
 "nbformat": 4,
 "nbformat_minor": 5
}
